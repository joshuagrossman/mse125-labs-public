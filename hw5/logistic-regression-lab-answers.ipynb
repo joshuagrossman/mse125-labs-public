{
 "cells": [
  {
   "cell_type": "markdown",
   "metadata": {},
   "source": [
    "# 🚯 Lecture 11 Lab: Logistic regression and spam detection"
   ]
  },
  {
   "cell_type": "markdown",
   "metadata": {
    "tags": []
   },
   "source": [
    "<img src=\"img/spam-email.png\" alt= “spam-email” width=\"500\" />"
   ]
  },
  {
   "cell_type": "markdown",
   "metadata": {
    "tags": []
   },
   "source": [
    "## ✅ Setup and data import\n",
    "In this lab, we will work with a [classic dataset](https://archive.ics.uci.edu/dataset/94/spambase) of 4,601 emails classified as spam or not spam."
   ]
  },
  {
   "cell_type": "code",
   "execution_count": 3,
   "metadata": {
    "vscode": {
     "languageId": "r"
    }
   },
   "outputs": [
    {
     "name": "stderr",
     "output_type": "stream",
     "text": [
      "-- \u001b[1mAttaching packages\u001b[22m --------------------------------------- tidyverse 1.3.2 --\n",
      "\u001b[32mv\u001b[39m \u001b[34mggplot2\u001b[39m 3.5.0     \u001b[32mv\u001b[39m \u001b[34mpurrr  \u001b[39m 1.0.2\n",
      "\u001b[32mv\u001b[39m \u001b[34mtibble \u001b[39m 3.2.1     \u001b[32mv\u001b[39m \u001b[34mdplyr  \u001b[39m 1.1.4\n",
      "\u001b[32mv\u001b[39m \u001b[34mtidyr  \u001b[39m 1.3.0     \u001b[32mv\u001b[39m \u001b[34mstringr\u001b[39m 1.5.1\n",
      "\u001b[32mv\u001b[39m \u001b[34mreadr  \u001b[39m 2.1.4     \u001b[32mv\u001b[39m \u001b[34mforcats\u001b[39m 1.0.0\n",
      "-- \u001b[1mConflicts\u001b[22m ------------------------------------------ tidyverse_conflicts() --\n",
      "\u001b[31mx\u001b[39m \u001b[34mdplyr\u001b[39m::\u001b[32mfilter()\u001b[39m masks \u001b[34mstats\u001b[39m::filter()\n",
      "\u001b[31mx\u001b[39m \u001b[34mdplyr\u001b[39m::\u001b[32mlag()\u001b[39m    masks \u001b[34mstats\u001b[39m::lag()\n",
      "\n",
      "Attaching package: 'lubridate'\n",
      "\n",
      "\n",
      "The following objects are masked from 'package:base':\n",
      "\n",
      "    date, intersect, setdiff, union\n",
      "\n",
      "\n",
      "\u001b[1mRows: \u001b[22m\u001b[34m4601\u001b[39m \u001b[1mColumns: \u001b[22m\u001b[34m58\u001b[39m\n",
      "\u001b[36m--\u001b[39m \u001b[1mColumn specification\u001b[22m \u001b[36m--------------------------------------------------------\u001b[39m\n",
      "\u001b[1mDelimiter:\u001b[22m \",\"\n",
      "\u001b[32mdbl\u001b[39m (58): make, address, all, 3d, our, over, remove, internet, order, mail, ...\n",
      "\n",
      "\u001b[36mi\u001b[39m Use `spec()` to retrieve the full column specification for this data.\n",
      "\u001b[36mi\u001b[39m Specify the column types or set `show_col_types = FALSE` to quiet this message.\n"
     ]
    },
    {
     "data": {
      "text/html": [
       "<table class=\"dataframe\">\n",
       "<caption>A spec_tbl_df: 10 × 58</caption>\n",
       "<thead>\n",
       "\t<tr><th scope=col>make</th><th scope=col>address</th><th scope=col>all</th><th scope=col>3d</th><th scope=col>our</th><th scope=col>over</th><th scope=col>remove</th><th scope=col>internet</th><th scope=col>order</th><th scope=col>mail</th><th scope=col>⋯</th><th scope=col>char_semicolon</th><th scope=col>char_left_paren</th><th scope=col>char_left_bracket</th><th scope=col>char_exclamation</th><th scope=col>char_dollar</th><th scope=col>char_pound</th><th scope=col>capital_run_length_average</th><th scope=col>capital_run_length_longest</th><th scope=col>capital_run_length_total</th><th scope=col>is_spam</th></tr>\n",
       "\t<tr><th scope=col>&lt;dbl&gt;</th><th scope=col>&lt;dbl&gt;</th><th scope=col>&lt;dbl&gt;</th><th scope=col>&lt;dbl&gt;</th><th scope=col>&lt;dbl&gt;</th><th scope=col>&lt;dbl&gt;</th><th scope=col>&lt;dbl&gt;</th><th scope=col>&lt;dbl&gt;</th><th scope=col>&lt;dbl&gt;</th><th scope=col>&lt;dbl&gt;</th><th scope=col>⋯</th><th scope=col>&lt;dbl&gt;</th><th scope=col>&lt;dbl&gt;</th><th scope=col>&lt;dbl&gt;</th><th scope=col>&lt;dbl&gt;</th><th scope=col>&lt;dbl&gt;</th><th scope=col>&lt;dbl&gt;</th><th scope=col>&lt;dbl&gt;</th><th scope=col>&lt;dbl&gt;</th><th scope=col>&lt;dbl&gt;</th><th scope=col>&lt;dbl&gt;</th></tr>\n",
       "</thead>\n",
       "<tbody>\n",
       "\t<tr><td>0.00</td><td>0.00</td><td>0.00</td><td>0</td><td>0.47</td><td>0.00</td><td>1.41</td><td>0</td><td>0.00</td><td>0.00</td><td>⋯</td><td>0.000</td><td>0.000</td><td>0.000</td><td>0.144</td><td>0.288</td><td>0.000</td><td>3.75</td><td>54</td><td> 191</td><td>1</td></tr>\n",
       "\t<tr><td>0.00</td><td>0.00</td><td>0.00</td><td>0</td><td>0.00</td><td>0.00</td><td>0.00</td><td>0</td><td>0.00</td><td>1.05</td><td>⋯</td><td>0.000</td><td>0.000</td><td>0.335</td><td>0.000</td><td>0.000</td><td>0.000</td><td>4.13</td><td>26</td><td> 124</td><td>0</td></tr>\n",
       "\t<tr><td>0.00</td><td>0.00</td><td>0.00</td><td>0</td><td>0.00</td><td>0.00</td><td>0.00</td><td>0</td><td>0.00</td><td>0.69</td><td>⋯</td><td>0.000</td><td>0.228</td><td>0.114</td><td>0.000</td><td>0.000</td><td>0.114</td><td>3.65</td><td>28</td><td> 157</td><td>0</td></tr>\n",
       "\t<tr><td>0.00</td><td>0.00</td><td>0.00</td><td>0</td><td>0.00</td><td>0.00</td><td>0.68</td><td>0</td><td>0.00</td><td>0.68</td><td>⋯</td><td>0.000</td><td>0.144</td><td>0.000</td><td>0.000</td><td>0.000</td><td>0.072</td><td>3.37</td><td>19</td><td> 155</td><td>0</td></tr>\n",
       "\t<tr><td>0.00</td><td>0.00</td><td>0.44</td><td>0</td><td>0.00</td><td>0.00</td><td>0.00</td><td>0</td><td>0.00</td><td>0.00</td><td>⋯</td><td>0.000</td><td>0.000</td><td>0.061</td><td>0.000</td><td>0.000</td><td>0.000</td><td>1.95</td><td>17</td><td> 230</td><td>0</td></tr>\n",
       "\t<tr><td>0.00</td><td>0.00</td><td>0.00</td><td>0</td><td>0.00</td><td>0.00</td><td>0.00</td><td>0</td><td>0.00</td><td>0.00</td><td>⋯</td><td>0.000</td><td>0.000</td><td>0.000</td><td>5.844</td><td>0.000</td><td>0.000</td><td>1.67</td><td> 5</td><td>  15</td><td>1</td></tr>\n",
       "\t<tr><td>0.00</td><td>0.00</td><td>0.00</td><td>0</td><td>0.00</td><td>0.00</td><td>0.00</td><td>0</td><td>0.00</td><td>0.00</td><td>⋯</td><td>0.000</td><td>0.000</td><td>0.000</td><td>0.000</td><td>0.000</td><td>0.000</td><td>1.00</td><td> 1</td><td>   5</td><td>0</td></tr>\n",
       "\t<tr><td>0.00</td><td>0.00</td><td>0.00</td><td>0</td><td>0.00</td><td>0.00</td><td>0.00</td><td>0</td><td>0.00</td><td>0.00</td><td>⋯</td><td>0.000</td><td>0.000</td><td>0.000</td><td>0.000</td><td>0.000</td><td>0.000</td><td>2.20</td><td> 4</td><td>  11</td><td>0</td></tr>\n",
       "\t<tr><td>0.10</td><td>0.05</td><td>0.10</td><td>0</td><td>0.31</td><td>0.10</td><td>0.00</td><td>0</td><td>0.00</td><td>0.05</td><td>⋯</td><td>0.007</td><td>0.168</td><td>0.000</td><td>0.038</td><td>0.061</td><td>0.007</td><td>1.70</td><td>25</td><td> 939</td><td>0</td></tr>\n",
       "\t<tr><td>0.05</td><td>0.00</td><td>0.10</td><td>0</td><td>0.16</td><td>0.05</td><td>0.00</td><td>0</td><td>0.48</td><td>0.00</td><td>⋯</td><td>0.172</td><td>0.195</td><td>0.062</td><td>0.000</td><td>0.015</td><td>0.000</td><td>2.76</td><td>47</td><td>1073</td><td>0</td></tr>\n",
       "</tbody>\n",
       "</table>\n"
      ],
      "text/latex": [
       "A spec\\_tbl\\_df: 10 × 58\n",
       "\\begin{tabular}{lllllllllllllllllllll}\n",
       " make & address & all & 3d & our & over & remove & internet & order & mail & ⋯ & char\\_semicolon & char\\_left\\_paren & char\\_left\\_bracket & char\\_exclamation & char\\_dollar & char\\_pound & capital\\_run\\_length\\_average & capital\\_run\\_length\\_longest & capital\\_run\\_length\\_total & is\\_spam\\\\\n",
       " <dbl> & <dbl> & <dbl> & <dbl> & <dbl> & <dbl> & <dbl> & <dbl> & <dbl> & <dbl> & ⋯ & <dbl> & <dbl> & <dbl> & <dbl> & <dbl> & <dbl> & <dbl> & <dbl> & <dbl> & <dbl>\\\\\n",
       "\\hline\n",
       "\t 0.00 & 0.00 & 0.00 & 0 & 0.47 & 0.00 & 1.41 & 0 & 0.00 & 0.00 & ⋯ & 0.000 & 0.000 & 0.000 & 0.144 & 0.288 & 0.000 & 3.75 & 54 &  191 & 1\\\\\n",
       "\t 0.00 & 0.00 & 0.00 & 0 & 0.00 & 0.00 & 0.00 & 0 & 0.00 & 1.05 & ⋯ & 0.000 & 0.000 & 0.335 & 0.000 & 0.000 & 0.000 & 4.13 & 26 &  124 & 0\\\\\n",
       "\t 0.00 & 0.00 & 0.00 & 0 & 0.00 & 0.00 & 0.00 & 0 & 0.00 & 0.69 & ⋯ & 0.000 & 0.228 & 0.114 & 0.000 & 0.000 & 0.114 & 3.65 & 28 &  157 & 0\\\\\n",
       "\t 0.00 & 0.00 & 0.00 & 0 & 0.00 & 0.00 & 0.68 & 0 & 0.00 & 0.68 & ⋯ & 0.000 & 0.144 & 0.000 & 0.000 & 0.000 & 0.072 & 3.37 & 19 &  155 & 0\\\\\n",
       "\t 0.00 & 0.00 & 0.44 & 0 & 0.00 & 0.00 & 0.00 & 0 & 0.00 & 0.00 & ⋯ & 0.000 & 0.000 & 0.061 & 0.000 & 0.000 & 0.000 & 1.95 & 17 &  230 & 0\\\\\n",
       "\t 0.00 & 0.00 & 0.00 & 0 & 0.00 & 0.00 & 0.00 & 0 & 0.00 & 0.00 & ⋯ & 0.000 & 0.000 & 0.000 & 5.844 & 0.000 & 0.000 & 1.67 &  5 &   15 & 1\\\\\n",
       "\t 0.00 & 0.00 & 0.00 & 0 & 0.00 & 0.00 & 0.00 & 0 & 0.00 & 0.00 & ⋯ & 0.000 & 0.000 & 0.000 & 0.000 & 0.000 & 0.000 & 1.00 &  1 &    5 & 0\\\\\n",
       "\t 0.00 & 0.00 & 0.00 & 0 & 0.00 & 0.00 & 0.00 & 0 & 0.00 & 0.00 & ⋯ & 0.000 & 0.000 & 0.000 & 0.000 & 0.000 & 0.000 & 2.20 &  4 &   11 & 0\\\\\n",
       "\t 0.10 & 0.05 & 0.10 & 0 & 0.31 & 0.10 & 0.00 & 0 & 0.00 & 0.05 & ⋯ & 0.007 & 0.168 & 0.000 & 0.038 & 0.061 & 0.007 & 1.70 & 25 &  939 & 0\\\\\n",
       "\t 0.05 & 0.00 & 0.10 & 0 & 0.16 & 0.05 & 0.00 & 0 & 0.48 & 0.00 & ⋯ & 0.172 & 0.195 & 0.062 & 0.000 & 0.015 & 0.000 & 2.76 & 47 & 1073 & 0\\\\\n",
       "\\end{tabular}\n"
      ],
      "text/markdown": [
       "\n",
       "A spec_tbl_df: 10 × 58\n",
       "\n",
       "| make &lt;dbl&gt; | address &lt;dbl&gt; | all &lt;dbl&gt; | 3d &lt;dbl&gt; | our &lt;dbl&gt; | over &lt;dbl&gt; | remove &lt;dbl&gt; | internet &lt;dbl&gt; | order &lt;dbl&gt; | mail &lt;dbl&gt; | ⋯ ⋯ | char_semicolon &lt;dbl&gt; | char_left_paren &lt;dbl&gt; | char_left_bracket &lt;dbl&gt; | char_exclamation &lt;dbl&gt; | char_dollar &lt;dbl&gt; | char_pound &lt;dbl&gt; | capital_run_length_average &lt;dbl&gt; | capital_run_length_longest &lt;dbl&gt; | capital_run_length_total &lt;dbl&gt; | is_spam &lt;dbl&gt; |\n",
       "|---|---|---|---|---|---|---|---|---|---|---|---|---|---|---|---|---|---|---|---|---|\n",
       "| 0.00 | 0.00 | 0.00 | 0 | 0.47 | 0.00 | 1.41 | 0 | 0.00 | 0.00 | ⋯ | 0.000 | 0.000 | 0.000 | 0.144 | 0.288 | 0.000 | 3.75 | 54 |  191 | 1 |\n",
       "| 0.00 | 0.00 | 0.00 | 0 | 0.00 | 0.00 | 0.00 | 0 | 0.00 | 1.05 | ⋯ | 0.000 | 0.000 | 0.335 | 0.000 | 0.000 | 0.000 | 4.13 | 26 |  124 | 0 |\n",
       "| 0.00 | 0.00 | 0.00 | 0 | 0.00 | 0.00 | 0.00 | 0 | 0.00 | 0.69 | ⋯ | 0.000 | 0.228 | 0.114 | 0.000 | 0.000 | 0.114 | 3.65 | 28 |  157 | 0 |\n",
       "| 0.00 | 0.00 | 0.00 | 0 | 0.00 | 0.00 | 0.68 | 0 | 0.00 | 0.68 | ⋯ | 0.000 | 0.144 | 0.000 | 0.000 | 0.000 | 0.072 | 3.37 | 19 |  155 | 0 |\n",
       "| 0.00 | 0.00 | 0.44 | 0 | 0.00 | 0.00 | 0.00 | 0 | 0.00 | 0.00 | ⋯ | 0.000 | 0.000 | 0.061 | 0.000 | 0.000 | 0.000 | 1.95 | 17 |  230 | 0 |\n",
       "| 0.00 | 0.00 | 0.00 | 0 | 0.00 | 0.00 | 0.00 | 0 | 0.00 | 0.00 | ⋯ | 0.000 | 0.000 | 0.000 | 5.844 | 0.000 | 0.000 | 1.67 |  5 |   15 | 1 |\n",
       "| 0.00 | 0.00 | 0.00 | 0 | 0.00 | 0.00 | 0.00 | 0 | 0.00 | 0.00 | ⋯ | 0.000 | 0.000 | 0.000 | 0.000 | 0.000 | 0.000 | 1.00 |  1 |    5 | 0 |\n",
       "| 0.00 | 0.00 | 0.00 | 0 | 0.00 | 0.00 | 0.00 | 0 | 0.00 | 0.00 | ⋯ | 0.000 | 0.000 | 0.000 | 0.000 | 0.000 | 0.000 | 2.20 |  4 |   11 | 0 |\n",
       "| 0.10 | 0.05 | 0.10 | 0 | 0.31 | 0.10 | 0.00 | 0 | 0.00 | 0.05 | ⋯ | 0.007 | 0.168 | 0.000 | 0.038 | 0.061 | 0.007 | 1.70 | 25 |  939 | 0 |\n",
       "| 0.05 | 0.00 | 0.10 | 0 | 0.16 | 0.05 | 0.00 | 0 | 0.48 | 0.00 | ⋯ | 0.172 | 0.195 | 0.062 | 0.000 | 0.015 | 0.000 | 2.76 | 47 | 1073 | 0 |\n",
       "\n"
      ],
      "text/plain": [
       "   make address all  3d our  over remove internet order mail <U+22EF>       \n",
       "1  0.00 0.00    0.00 0  0.47 0.00 1.41   0        0.00  0.00 <U+22EF>\n",
       "2  0.00 0.00    0.00 0  0.00 0.00 0.00   0        0.00  1.05 <U+22EF>\n",
       "3  0.00 0.00    0.00 0  0.00 0.00 0.00   0        0.00  0.69 <U+22EF>\n",
       "4  0.00 0.00    0.00 0  0.00 0.00 0.68   0        0.00  0.68 <U+22EF>\n",
       "5  0.00 0.00    0.44 0  0.00 0.00 0.00   0        0.00  0.00 <U+22EF>\n",
       "6  0.00 0.00    0.00 0  0.00 0.00 0.00   0        0.00  0.00 <U+22EF>\n",
       "7  0.00 0.00    0.00 0  0.00 0.00 0.00   0        0.00  0.00 <U+22EF>\n",
       "8  0.00 0.00    0.00 0  0.00 0.00 0.00   0        0.00  0.00 <U+22EF>\n",
       "9  0.10 0.05    0.10 0  0.31 0.10 0.00   0        0.00  0.05 <U+22EF>\n",
       "10 0.05 0.00    0.10 0  0.16 0.05 0.00   0        0.48  0.00 <U+22EF>\n",
       "   char_semicolon char_left_paren char_left_bracket char_exclamation\n",
       "1  0.000          0.000           0.000             0.144           \n",
       "2  0.000          0.000           0.335             0.000           \n",
       "3  0.000          0.228           0.114             0.000           \n",
       "4  0.000          0.144           0.000             0.000           \n",
       "5  0.000          0.000           0.061             0.000           \n",
       "6  0.000          0.000           0.000             5.844           \n",
       "7  0.000          0.000           0.000             0.000           \n",
       "8  0.000          0.000           0.000             0.000           \n",
       "9  0.007          0.168           0.000             0.038           \n",
       "10 0.172          0.195           0.062             0.000           \n",
       "   char_dollar char_pound capital_run_length_average capital_run_length_longest\n",
       "1  0.288       0.000      3.75                       54                        \n",
       "2  0.000       0.000      4.13                       26                        \n",
       "3  0.000       0.114      3.65                       28                        \n",
       "4  0.000       0.072      3.37                       19                        \n",
       "5  0.000       0.000      1.95                       17                        \n",
       "6  0.000       0.000      1.67                        5                        \n",
       "7  0.000       0.000      1.00                        1                        \n",
       "8  0.000       0.000      2.20                        4                        \n",
       "9  0.061       0.007      1.70                       25                        \n",
       "10 0.015       0.000      2.76                       47                        \n",
       "   capital_run_length_total is_spam\n",
       "1   191                     1      \n",
       "2   124                     0      \n",
       "3   157                     0      \n",
       "4   155                     0      \n",
       "5   230                     0      \n",
       "6    15                     1      \n",
       "7     5                     0      \n",
       "8    11                     0      \n",
       "9   939                     0      \n",
       "10 1073                     0      "
      ]
     },
     "metadata": {},
     "output_type": "display_data"
    }
   ],
   "source": [
    "# Load in additional functions\n",
    "library(tidyverse)\n",
    "library(lubridate)\n",
    "\n",
    "# Use three digits past the decimal point,\n",
    "# and don't use scientific notation.\n",
    "options(digits = 3, scipen = 999)\n",
    "\n",
    "# Format plots with a white background and dark features.\n",
    "theme_set(theme_bw())\n",
    "\n",
    "# Increase the default text size of plots.\n",
    "# If you are *not* working in Google Colab, we recommend commenting\n",
    "# out this line of code.\n",
    "theme_update(text = element_text(size = 20))\n",
    "\n",
    "# Increase the default plot width and height.\n",
    "# If you are *not* working in Google Colab, we recommend commenting\n",
    "# out this line of code.\n",
    "options(repr.plot.width=12, repr.plot.height=8)\n",
    "\n",
    "# Read in the data\n",
    "spam = read_csv('https://jdgrossman.com/assets/spam.csv')\n",
    "\n",
    "# peek at 10 random rows\n",
    "sample_n(spam, 10)"
   ]
  },
  {
   "cell_type": "markdown",
   "metadata": {},
   "source": [
    "## ♨️ Warm up"
   ]
  },
  {
   "cell_type": "markdown",
   "metadata": {},
   "source": [
    "How many emails are in the database? \n",
    "\n",
    "What fraction of the emails in the database are spam? \n",
    "\n",
    "Which email contains the highest percentage of words matching \"money\"? What percentage of words in that email match \"money\"?"
   ]
  },
  {
   "cell_type": "code",
   "execution_count": 4,
   "metadata": {
    "vscode": {
     "languageId": "r"
    }
   },
   "outputs": [
    {
     "data": {
      "text/html": [
       "4601"
      ],
      "text/latex": [
       "4601"
      ],
      "text/markdown": [
       "4601"
      ],
      "text/plain": [
       "[1] 4601"
      ]
     },
     "metadata": {},
     "output_type": "display_data"
    },
    {
     "data": {
      "text/html": [
       "0.394044772875462"
      ],
      "text/latex": [
       "0.394044772875462"
      ],
      "text/markdown": [
       "0.394044772875462"
      ],
      "text/plain": [
       "[1] 0.394"
      ]
     },
     "metadata": {},
     "output_type": "display_data"
    },
    {
     "data": {
      "text/html": [
       "12.5"
      ],
      "text/latex": [
       "12.5"
      ],
      "text/markdown": [
       "12.5"
      ],
      "text/plain": [
       "[1] 12.5"
      ]
     },
     "metadata": {},
     "output_type": "display_data"
    }
   ],
   "source": [
    "# Your code here!\n",
    "\n",
    "# START answer\n",
    "\n",
    "# 4601 emails\n",
    "nrow(spam)\n",
    "\n",
    "# 39% are spam\n",
    "mean(spam$is_spam)\n",
    "\n",
    "# 12.5% of words in one email match \"money\"\n",
    "spam %>%\n",
    "  arrange(desc(money)) %>% \n",
    "  slice(1) %>% \n",
    "  pull(money)\n",
    "\n",
    "# END answer"
   ]
  },
  {
   "cell_type": "markdown",
   "metadata": {
    "vscode": {
     "languageId": "r"
    }
   },
   "source": [
    "## 🎲 Linear probability models (LPMs)\n",
    "\n",
    "Fit a linear regression model to the spam data with the `lm` function. \n",
    "\n",
    "Use the following covariates to predict the likelihood that an email is spam:\n",
    "- `char_dollar`\n",
    "- `credit`\n",
    "- `money`\n",
    "- `re`\n",
    "\n",
    "How would you interpret the model coefficients for the intercept and for `char_dollar`?\n",
    "\n",
    "- Note: `char_dollar` represents the percentage of characters in the email that match `$`."
   ]
  },
  {
   "cell_type": "code",
   "execution_count": 5,
   "metadata": {
    "vscode": {
     "languageId": "r"
    }
   },
   "outputs": [
    {
     "data": {
      "text/plain": [
       "\n",
       "Call:\n",
       "lm(formula = is_spam ~ 1 + char_dollar + credit + money + re, \n",
       "    data = spam)\n",
       "\n",
       "Residuals:\n",
       "   Min     1Q Median     3Q    Max \n",
       "-2.849 -0.335 -0.303  0.514  0.963 \n",
       "\n",
       "Coefficients:\n",
       "            Estimate Std. Error t value            Pr(>|t|)    \n",
       "(Intercept)  0.33459    0.00732   45.70 <0.0000000000000002 ***\n",
       "char_dollar  0.58551    0.02675   21.89 <0.0000000000000002 ***\n",
       "credit       0.15752    0.01285   12.26 <0.0000000000000002 ***\n",
       "money        0.18794    0.01487   12.64 <0.0000000000000002 ***\n",
       "re          -0.05355    0.00648   -8.27 <0.0000000000000002 ***\n",
       "---\n",
       "Signif. codes:  0 '***' 0.001 '**' 0.01 '*' 0.05 '.' 0.1 ' ' 1\n",
       "\n",
       "Residual standard error: 0.443 on 4596 degrees of freedom\n",
       "Multiple R-squared:  0.179,\tAdjusted R-squared:  0.178 \n",
       "F-statistic:  250 on 4 and 4596 DF,  p-value: <0.0000000000000002\n"
      ]
     },
     "metadata": {},
     "output_type": "display_data"
    }
   ],
   "source": [
    "# Your code here!\n",
    "\n",
    "## START answer\n",
    "\n",
    "model = lm(is_spam ~ 1 + char_dollar + credit + money + re, data=spam)\n",
    "\n",
    "summary(model)\n",
    "\n",
    "# Intercept: For an email that does not mention $, credit, money, or re, the model predicts a 0.33 probability of being spam.\n",
    "\n",
    "# char_dollar: For every unit increase in char_dollar (i.e., for every percentage point increase in the proportion of characters in the email that are $), the model predicts a 59pp increase in the probability of being spam.\n",
    "\n",
    "## END answer"
   ]
  },
  {
   "cell_type": "markdown",
   "metadata": {},
   "source": [
    "Using your linear probability model and the `predict` function, predict the in-sample probability that each email is spam.\n",
    "\n",
    "What is the smallest predicted probability? The largest? Do you notice any issues with these predictions?"
   ]
  },
  {
   "cell_type": "code",
   "execution_count": 6,
   "metadata": {
    "vscode": {
     "languageId": "r"
    }
   },
   "outputs": [
    {
     "data": {
      "text/plain": [
       "   Min. 1st Qu.  Median    Mean 3rd Qu.    Max. \n",
       "  -0.81    0.33    0.33    0.39    0.40    3.85 "
      ]
     },
     "metadata": {},
     "output_type": "display_data"
    }
   ],
   "source": [
    "# Your code here!\n",
    "\n",
    "## START answer\n",
    "\n",
    "# equivalent to predict(model)\n",
    "predictions = predict(model, newdata=spam)\n",
    "\n",
    "summary(predictions)\n",
    "\n",
    "# We get impossible predictions for probabilities!\n",
    "\n",
    "# END answer"
   ]
  },
  {
   "cell_type": "markdown",
   "metadata": {
    "vscode": {
     "languageId": "r"
    }
   },
   "source": [
    "## 🎰 Odds functions"
   ]
  },
  {
   "cell_type": "markdown",
   "metadata": {},
   "source": [
    "Write two functions:\n",
    "- A function to convert probabilities to odds.\n",
    "- A function to convert odds to probabilities\n",
    "\n",
    "Test your functions by making sure that 2:1 odds returns a 2/3 probability, and vice versa. \n",
    "\n",
    "Finally, suppose my probability of winning is 60%. If I double my odds of winning, what is my new probability of winning?"
   ]
  },
  {
   "cell_type": "code",
   "execution_count": 7,
   "metadata": {
    "vscode": {
     "languageId": "r"
    }
   },
   "outputs": [
    {
     "data": {
      "text/html": [
       "2"
      ],
      "text/latex": [
       "2"
      ],
      "text/markdown": [
       "2"
      ],
      "text/plain": [
       "[1] 2"
      ]
     },
     "metadata": {},
     "output_type": "display_data"
    },
    {
     "data": {
      "text/html": [
       "0.666666666666667"
      ],
      "text/latex": [
       "0.666666666666667"
      ],
      "text/markdown": [
       "0.666666666666667"
      ],
      "text/plain": [
       "[1] 0.667"
      ]
     },
     "metadata": {},
     "output_type": "display_data"
    },
    {
     "data": {
      "text/html": [
       "0.75"
      ],
      "text/latex": [
       "0.75"
      ],
      "text/markdown": [
       "0.75"
      ],
      "text/plain": [
       "[1] 0.75"
      ]
     },
     "metadata": {},
     "output_type": "display_data"
    }
   ],
   "source": [
    "# Your code here!\n",
    "\n",
    "# START answer\n",
    "\n",
    "prob_to_odds = function(prob) {\n",
    "  prob / (1 - prob)\n",
    "}\n",
    "\n",
    "odds_to_prob = function(odds) {\n",
    "  odds / (1 + odds)\n",
    "}\n",
    "\n",
    "prob_to_odds(2/3)\n",
    "odds_to_prob(2)\n",
    "\n",
    "# 75% is my new probability of winning\n",
    "odds_to_prob(2 * prob_to_odds(0.6))\n",
    "\n",
    "# END answer"
   ]
  },
  {
   "cell_type": "markdown",
   "metadata": {
    "vscode": {
     "languageId": "r"
    }
   },
   "source": [
    "## 🪙 Fitting a logistic regression model "
   ]
  },
  {
   "cell_type": "markdown",
   "metadata": {},
   "source": [
    "We can fit a logistic regression model with the same covariates as above with the following code:"
   ]
  },
  {
   "cell_type": "code",
   "execution_count": 8,
   "metadata": {
    "vscode": {
     "languageId": "r"
    }
   },
   "outputs": [
    {
     "name": "stderr",
     "output_type": "stream",
     "text": [
      "Warning message:\n",
      "\"glm.fit: fitted probabilities numerically 0 or 1 occurred\"\n"
     ]
    },
    {
     "data": {
      "text/plain": [
       "\n",
       "Call:\n",
       "glm(formula = is_spam ~ 1 + char_dollar + credit + money + re, \n",
       "    family = \"binomial\", data = spam)\n",
       "\n",
       "Deviance Residuals: \n",
       "   Min      1Q  Median      3Q     Max  \n",
       "-6.785  -0.769  -0.621   0.607   3.279  \n",
       "\n",
       "Coefficients:\n",
       "            Estimate Std. Error z value             Pr(>|z|)    \n",
       "(Intercept)  -1.0666     0.0432  -24.68 < 0.0000000000000002 ***\n",
       "char_dollar  11.8176     0.6045   19.55 < 0.0000000000000002 ***\n",
       "credit        2.3119     0.3430    6.74   0.0000000000157692 ***\n",
       "money         1.9933     0.2485    8.02   0.0000000000000010 ***\n",
       "re           -0.7755     0.0994   -7.81   0.0000000000000059 ***\n",
       "---\n",
       "Signif. codes:  0 '***' 0.001 '**' 0.01 '*' 0.05 '.' 0.1 ' ' 1\n",
       "\n",
       "(Dispersion parameter for binomial family taken to be 1)\n",
       "\n",
       "    Null deviance: 6170.2  on 4600  degrees of freedom\n",
       "Residual deviance: 4427.8  on 4596  degrees of freedom\n",
       "AIC: 4438\n",
       "\n",
       "Number of Fisher Scoring iterations: 7\n"
      ]
     },
     "metadata": {},
     "output_type": "display_data"
    }
   ],
   "source": [
    "model = glm(is_spam ~ 1 + char_dollar + credit + money + re, family='binomial', data=spam)\n",
    "\n",
    "summary(model)"
   ]
  },
  {
   "cell_type": "markdown",
   "metadata": {},
   "source": [
    "Interpret the intercept and `money` coefficients for the logistic regression model three different ways:\n",
    "1. On the log odds scale\n",
    "2. On the odds scale (by exponentiating the coefficients)\n",
    "3. On the probability scale (using either the odds functions you wrote, or the divide by 4 trick).\n",
    "\n",
    "Tip: Use the `coef` function to extract coefficients from the model."
   ]
  },
  {
   "cell_type": "code",
   "execution_count": 11,
   "metadata": {
    "vscode": {
     "languageId": "r"
    }
   },
   "outputs": [
    {
     "name": "stdout",
     "output_type": "stream",
     "text": [
      "(Intercept)       money \n",
      "      -1.07        1.99 \n"
     ]
    },
    {
     "data": {
      "text/html": [
       "0.255403084172524"
      ],
      "text/latex": [
       "0.255403084172524"
      ],
      "text/markdown": [
       "0.255403084172524"
      ],
      "text/plain": [
       "[1] 0.255"
      ]
     },
     "metadata": {},
     "output_type": "display_data"
    },
    {
     "name": "stdout",
     "output_type": "stream",
     "text": [
      "(Intercept)       money \n",
      "      0.344       7.340 \n"
     ]
    },
    {
     "data": {
      "text/html": [
       "0.255952380952381"
      ],
      "text/latex": [
       "0.255952380952381"
      ],
      "text/markdown": [
       "0.255952380952381"
      ],
      "text/plain": [
       "[1] 0.256"
      ]
     },
     "metadata": {},
     "output_type": "display_data"
    },
    {
     "name": "stdout",
     "output_type": "stream",
     "text": [
      "money \n",
      "0.498 \n"
     ]
    }
   ],
   "source": [
    "# Your code here! \n",
    "\n",
    "# START answer\n",
    "\n",
    "coefficients = coef(model)\n",
    "\n",
    "coefs_to_interpret = coefficients[c('(Intercept)', 'money')]\n",
    "\n",
    "# For an email that does not mention $, credit, money, or re, the model predicts a -1.07 log-odds of being spam. This corresponds to a probability of 26%.\n",
    "# The model predicts an 1.99 increase log odds for every percentage point increase in the proportion of words that match \"money\".\n",
    "print(coefs_to_interpret)\n",
    "\n",
    "odds_to_prob(exp(-1.07))\n",
    "\n",
    "# For an email that does not mention $, credit, money, or re, the model predicts 0.344 odds of being spam. As above, this corresponds to a probability of 26%.\n",
    "# For these emails, the model predicts a 7.3x increase in the odds of an email being spam for every percentage point increase in the proportion of words that match \"money\".\n",
    "print(exp(coefs_to_interpret))\n",
    "\n",
    "odds_to_prob(0.344)\n",
    "\n",
    "# The maximum change in the probability of an email being spam for every 1pp increase in the proportion of words in the email that match 'money' is 0.498.\n",
    "print(coefs_to_interpret['money']/4)\n",
    "\n",
    "# END answer"
   ]
  }
 ],
 "metadata": {
  "kernelspec": {
   "display_name": "R",
   "language": "R",
   "name": "ir"
  },
  "language_info": {
   "codemirror_mode": "r",
   "file_extension": ".r",
   "mimetype": "text/x-r-source",
   "name": "R",
   "pygments_lexer": "r",
   "version": "4.2.1"
  }
 },
 "nbformat": 4,
 "nbformat_minor": 4
}

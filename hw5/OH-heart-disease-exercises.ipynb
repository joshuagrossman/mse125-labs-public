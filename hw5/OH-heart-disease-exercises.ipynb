{
 "cells": [
  {
   "cell_type": "markdown",
   "metadata": {},
   "source": [
    "# 🫀 HW5 Lab: Predicting heart disease with logistic regression"
   ]
  },
  {
   "cell_type": "markdown",
   "metadata": {
    "tags": []
   },
   "source": [
    "<img src=\"img/heart-disease.jpeg\" alt= “spam-email” width=\"300\" />"
   ]
  },
  {
   "cell_type": "markdown",
   "metadata": {
    "tags": []
   },
   "source": [
    "## ✅ Setup and data import\n",
    "In this lab, we will use attempt to predict heart disease using an aggregated [dataset of patients](https://www.kaggle.com/datasets/fedesoriano/heart-failure-prediction)."
   ]
  },
  {
   "cell_type": "code",
   "execution_count": 1,
   "metadata": {
    "vscode": {
     "languageId": "r"
    }
   },
   "outputs": [
    {
     "name": "stderr",
     "output_type": "stream",
     "text": [
      "── \u001b[1mAttaching packages\u001b[22m ─────────────────────────────────────── tidyverse 1.3.2 ──\n",
      "\u001b[32m✔\u001b[39m \u001b[34mggplot2\u001b[39m 3.5.0     \u001b[32m✔\u001b[39m \u001b[34mpurrr  \u001b[39m 1.0.2\n",
      "\u001b[32m✔\u001b[39m \u001b[34mtibble \u001b[39m 3.2.1     \u001b[32m✔\u001b[39m \u001b[34mdplyr  \u001b[39m 1.1.4\n",
      "\u001b[32m✔\u001b[39m \u001b[34mtidyr  \u001b[39m 1.3.0     \u001b[32m✔\u001b[39m \u001b[34mstringr\u001b[39m 1.5.1\n",
      "\u001b[32m✔\u001b[39m \u001b[34mreadr  \u001b[39m 2.1.4     \u001b[32m✔\u001b[39m \u001b[34mforcats\u001b[39m 1.0.0\n",
      "── \u001b[1mConflicts\u001b[22m ────────────────────────────────────────── tidyverse_conflicts() ──\n",
      "\u001b[31m✖\u001b[39m \u001b[34mdplyr\u001b[39m::\u001b[32mfilter()\u001b[39m masks \u001b[34mstats\u001b[39m::filter()\n",
      "\u001b[31m✖\u001b[39m \u001b[34mdplyr\u001b[39m::\u001b[32mlag()\u001b[39m    masks \u001b[34mstats\u001b[39m::lag()\n",
      "\n",
      "Attaching package: ‘lubridate’\n",
      "\n",
      "\n",
      "The following objects are masked from ‘package:base’:\n",
      "\n",
      "    date, intersect, setdiff, union\n",
      "\n",
      "\n",
      "\u001b[1mRows: \u001b[22m\u001b[34m918\u001b[39m \u001b[1mColumns: \u001b[22m\u001b[34m12\u001b[39m\n",
      "\u001b[36m──\u001b[39m \u001b[1mColumn specification\u001b[22m \u001b[36m────────────────────────────────────────────────────────\u001b[39m\n",
      "\u001b[1mDelimiter:\u001b[22m \",\"\n",
      "\u001b[31mchr\u001b[39m (5): Sex, ChestPainType, RestingECG, ExerciseAngina, ST_Slope\n",
      "\u001b[32mdbl\u001b[39m (7): Age, RestingBP, Cholesterol, FastingBS, MaxHR, Oldpeak, HeartDisease\n",
      "\n",
      "\u001b[36mℹ\u001b[39m Use `spec()` to retrieve the full column specification for this data.\n",
      "\u001b[36mℹ\u001b[39m Specify the column types or set `show_col_types = FALSE` to quiet this message.\n"
     ]
    },
    {
     "data": {
      "text/html": [
       "<table class=\"dataframe\">\n",
       "<caption>A spec_tbl_df: 10 × 12</caption>\n",
       "<thead>\n",
       "\t<tr><th scope=col>Age</th><th scope=col>Sex</th><th scope=col>ChestPainType</th><th scope=col>RestingBP</th><th scope=col>Cholesterol</th><th scope=col>FastingBS</th><th scope=col>RestingECG</th><th scope=col>MaxHR</th><th scope=col>ExerciseAngina</th><th scope=col>Oldpeak</th><th scope=col>ST_Slope</th><th scope=col>HeartDisease</th></tr>\n",
       "\t<tr><th scope=col>&lt;dbl&gt;</th><th scope=col>&lt;chr&gt;</th><th scope=col>&lt;chr&gt;</th><th scope=col>&lt;dbl&gt;</th><th scope=col>&lt;dbl&gt;</th><th scope=col>&lt;dbl&gt;</th><th scope=col>&lt;chr&gt;</th><th scope=col>&lt;dbl&gt;</th><th scope=col>&lt;chr&gt;</th><th scope=col>&lt;dbl&gt;</th><th scope=col>&lt;chr&gt;</th><th scope=col>&lt;dbl&gt;</th></tr>\n",
       "</thead>\n",
       "<tbody>\n",
       "\t<tr><td>64</td><td>F</td><td>NAP</td><td>140</td><td>313</td><td>0</td><td>Normal</td><td>133</td><td>N</td><td>0.2</td><td>Up  </td><td>0</td></tr>\n",
       "\t<tr><td>62</td><td>F</td><td>ASY</td><td>150</td><td>244</td><td>0</td><td>Normal</td><td>154</td><td>Y</td><td>1.4</td><td>Flat</td><td>1</td></tr>\n",
       "\t<tr><td>58</td><td>F</td><td>ASY</td><td>130</td><td>197</td><td>0</td><td>Normal</td><td>131</td><td>N</td><td>0.6</td><td>Flat</td><td>0</td></tr>\n",
       "\t<tr><td>60</td><td>M</td><td>ASY</td><td>152</td><td>  0</td><td>0</td><td>ST    </td><td>118</td><td>Y</td><td>0.0</td><td>Up  </td><td>0</td></tr>\n",
       "\t<tr><td>42</td><td>M</td><td>ATA</td><td>120</td><td>295</td><td>0</td><td>Normal</td><td>162</td><td>N</td><td>0.0</td><td>Up  </td><td>0</td></tr>\n",
       "\t<tr><td>37</td><td>M</td><td>NAP</td><td>118</td><td>240</td><td>0</td><td>LVH   </td><td>165</td><td>N</td><td>1.0</td><td>Flat</td><td>0</td></tr>\n",
       "\t<tr><td>61</td><td>M</td><td>NAP</td><td>120</td><td>337</td><td>0</td><td>Normal</td><td> 98</td><td>Y</td><td>0.0</td><td>Flat</td><td>1</td></tr>\n",
       "\t<tr><td>54</td><td>M</td><td>ASY</td><td>125</td><td>224</td><td>0</td><td>Normal</td><td>122</td><td>N</td><td>2.0</td><td>Flat</td><td>1</td></tr>\n",
       "\t<tr><td>67</td><td>M</td><td>NAP</td><td>152</td><td>212</td><td>0</td><td>LVH   </td><td>150</td><td>N</td><td>0.8</td><td>Flat</td><td>1</td></tr>\n",
       "\t<tr><td>53</td><td>F</td><td>ASY</td><td>138</td><td>234</td><td>0</td><td>LVH   </td><td>160</td><td>N</td><td>0.0</td><td>Up  </td><td>0</td></tr>\n",
       "</tbody>\n",
       "</table>\n"
      ],
      "text/latex": [
       "A spec\\_tbl\\_df: 10 × 12\n",
       "\\begin{tabular}{llllllllllll}\n",
       " Age & Sex & ChestPainType & RestingBP & Cholesterol & FastingBS & RestingECG & MaxHR & ExerciseAngina & Oldpeak & ST\\_Slope & HeartDisease\\\\\n",
       " <dbl> & <chr> & <chr> & <dbl> & <dbl> & <dbl> & <chr> & <dbl> & <chr> & <dbl> & <chr> & <dbl>\\\\\n",
       "\\hline\n",
       "\t 64 & F & NAP & 140 & 313 & 0 & Normal & 133 & N & 0.2 & Up   & 0\\\\\n",
       "\t 62 & F & ASY & 150 & 244 & 0 & Normal & 154 & Y & 1.4 & Flat & 1\\\\\n",
       "\t 58 & F & ASY & 130 & 197 & 0 & Normal & 131 & N & 0.6 & Flat & 0\\\\\n",
       "\t 60 & M & ASY & 152 &   0 & 0 & ST     & 118 & Y & 0.0 & Up   & 0\\\\\n",
       "\t 42 & M & ATA & 120 & 295 & 0 & Normal & 162 & N & 0.0 & Up   & 0\\\\\n",
       "\t 37 & M & NAP & 118 & 240 & 0 & LVH    & 165 & N & 1.0 & Flat & 0\\\\\n",
       "\t 61 & M & NAP & 120 & 337 & 0 & Normal &  98 & Y & 0.0 & Flat & 1\\\\\n",
       "\t 54 & M & ASY & 125 & 224 & 0 & Normal & 122 & N & 2.0 & Flat & 1\\\\\n",
       "\t 67 & M & NAP & 152 & 212 & 0 & LVH    & 150 & N & 0.8 & Flat & 1\\\\\n",
       "\t 53 & F & ASY & 138 & 234 & 0 & LVH    & 160 & N & 0.0 & Up   & 0\\\\\n",
       "\\end{tabular}\n"
      ],
      "text/markdown": [
       "\n",
       "A spec_tbl_df: 10 × 12\n",
       "\n",
       "| Age &lt;dbl&gt; | Sex &lt;chr&gt; | ChestPainType &lt;chr&gt; | RestingBP &lt;dbl&gt; | Cholesterol &lt;dbl&gt; | FastingBS &lt;dbl&gt; | RestingECG &lt;chr&gt; | MaxHR &lt;dbl&gt; | ExerciseAngina &lt;chr&gt; | Oldpeak &lt;dbl&gt; | ST_Slope &lt;chr&gt; | HeartDisease &lt;dbl&gt; |\n",
       "|---|---|---|---|---|---|---|---|---|---|---|---|\n",
       "| 64 | F | NAP | 140 | 313 | 0 | Normal | 133 | N | 0.2 | Up   | 0 |\n",
       "| 62 | F | ASY | 150 | 244 | 0 | Normal | 154 | Y | 1.4 | Flat | 1 |\n",
       "| 58 | F | ASY | 130 | 197 | 0 | Normal | 131 | N | 0.6 | Flat | 0 |\n",
       "| 60 | M | ASY | 152 |   0 | 0 | ST     | 118 | Y | 0.0 | Up   | 0 |\n",
       "| 42 | M | ATA | 120 | 295 | 0 | Normal | 162 | N | 0.0 | Up   | 0 |\n",
       "| 37 | M | NAP | 118 | 240 | 0 | LVH    | 165 | N | 1.0 | Flat | 0 |\n",
       "| 61 | M | NAP | 120 | 337 | 0 | Normal |  98 | Y | 0.0 | Flat | 1 |\n",
       "| 54 | M | ASY | 125 | 224 | 0 | Normal | 122 | N | 2.0 | Flat | 1 |\n",
       "| 67 | M | NAP | 152 | 212 | 0 | LVH    | 150 | N | 0.8 | Flat | 1 |\n",
       "| 53 | F | ASY | 138 | 234 | 0 | LVH    | 160 | N | 0.0 | Up   | 0 |\n",
       "\n"
      ],
      "text/plain": [
       "   Age Sex ChestPainType RestingBP Cholesterol FastingBS RestingECG MaxHR\n",
       "1  64  F   NAP           140       313         0         Normal     133  \n",
       "2  62  F   ASY           150       244         0         Normal     154  \n",
       "3  58  F   ASY           130       197         0         Normal     131  \n",
       "4  60  M   ASY           152         0         0         ST         118  \n",
       "5  42  M   ATA           120       295         0         Normal     162  \n",
       "6  37  M   NAP           118       240         0         LVH        165  \n",
       "7  61  M   NAP           120       337         0         Normal      98  \n",
       "8  54  M   ASY           125       224         0         Normal     122  \n",
       "9  67  M   NAP           152       212         0         LVH        150  \n",
       "10 53  F   ASY           138       234         0         LVH        160  \n",
       "   ExerciseAngina Oldpeak ST_Slope HeartDisease\n",
       "1  N              0.2     Up       0           \n",
       "2  Y              1.4     Flat     1           \n",
       "3  N              0.6     Flat     0           \n",
       "4  Y              0.0     Up       0           \n",
       "5  N              0.0     Up       0           \n",
       "6  N              1.0     Flat     0           \n",
       "7  Y              0.0     Flat     1           \n",
       "8  N              2.0     Flat     1           \n",
       "9  N              0.8     Flat     1           \n",
       "10 N              0.0     Up       0           "
      ]
     },
     "metadata": {},
     "output_type": "display_data"
    }
   ],
   "source": [
    "# Load in additional functions\n",
    "library(tidyverse)\n",
    "library(lubridate)\n",
    "\n",
    "# Use three digits past the decimal point,\n",
    "# and don't use scientific notation.\n",
    "options(digits = 3, scipen = 999)\n",
    "\n",
    "# Format plots with a white background and dark features.\n",
    "theme_set(theme_bw())\n",
    "\n",
    "# Increase the default text size of plots.\n",
    "# If you are *not* working in Google Colab, we recommend commenting\n",
    "# out this line of code.\n",
    "theme_update(text = element_text(size = 20))\n",
    "\n",
    "# Increase the default plot width and height.\n",
    "# If you are *not* working in Google Colab, we recommend commenting\n",
    "# out this line of code.\n",
    "options(repr.plot.width=12, repr.plot.height=8)\n",
    "\n",
    "# Read in the data\n",
    "data = read_csv('https://raw.githubusercontent.com/joshuagrossman/mse125-labs-public/main/week5/heart_failure.csv')\n",
    "\n",
    "# peek at 10 random rows\n",
    "sample_n(data, 10)"
   ]
  },
  {
   "cell_type": "markdown",
   "metadata": {},
   "source": [
    "## 🚀 Exercise 1"
   ]
  },
  {
   "cell_type": "markdown",
   "metadata": {},
   "source": [
    "a) Fit a linear probability model to the heart disease data to predict the likelihood that a patient has heart disease. \n",
    "- The model should only take into account the `Sex` column. \n",
    "- Print the summary of your model."
   ]
  },
  {
   "cell_type": "code",
   "execution_count": 3,
   "metadata": {
    "vscode": {
     "languageId": "r"
    }
   },
   "outputs": [
    {
     "data": {
      "text/plain": [
       "\n",
       "Call:\n",
       "lm(formula = HeartDisease ~ 1 + Sex, data = data)\n",
       "\n",
       "Residuals:\n",
       "   Min     1Q Median     3Q    Max \n",
       "-0.632 -0.632  0.368  0.368  0.741 \n",
       "\n",
       "Coefficients:\n",
       "            Estimate Std. Error t value             Pr(>|t|)    \n",
       "(Intercept)   0.2591     0.0341    7.59    0.000000000000076 ***\n",
       "SexM          0.3727     0.0384    9.71 < 0.0000000000000002 ***\n",
       "---\n",
       "Signif. codes:  0 ‘***’ 0.001 ‘**’ 0.01 ‘*’ 0.05 ‘.’ 0.1 ‘ ’ 1\n",
       "\n",
       "Residual standard error: 0.474 on 916 degrees of freedom\n",
       "Multiple R-squared:  0.0933,\tAdjusted R-squared:  0.0923 \n",
       "F-statistic: 94.3 on 1 and 916 DF,  p-value: <0.0000000000000002\n"
      ]
     },
     "metadata": {},
     "output_type": "display_data"
    }
   ],
   "source": [
    "# Your code here for part a)!\n",
    "\n",
    "lpm = lm(HeartDisease ~ 1 + Sex, data=data)\n",
    "summary(lpm)"
   ]
  },
  {
   "cell_type": "markdown",
   "metadata": {},
   "source": [
    "b) How do you interpret the coefficients of your model? Answer in no more than one sentence per coefficient."
   ]
  },
  {
   "cell_type": "code",
   "execution_count": null,
   "metadata": {
    "vscode": {
     "languageId": "r"
    }
   },
   "outputs": [],
   "source": [
    "# Your written answer for part b) here!\n",
    "# \n",
    "# \n",
    "\n"
   ]
  },
  {
   "cell_type": "markdown",
   "metadata": {},
   "source": [
    "c) Do male patients in the dataset have a significantly higher risk of heart disease than female patients in the dataset? Justify your response with a 95% confidence interval."
   ]
  },
  {
   "cell_type": "code",
   "execution_count": null,
   "metadata": {
    "vscode": {
     "languageId": "r"
    }
   },
   "outputs": [],
   "source": [
    "# Your code here for part c)!\n",
    "\n"
   ]
  },
  {
   "cell_type": "code",
   "execution_count": null,
   "metadata": {
    "vscode": {
     "languageId": "r"
    }
   },
   "outputs": [],
   "source": [
    "# Your written answer for part c) here!\n",
    "# \n",
    "# \n",
    "\n"
   ]
  },
  {
   "cell_type": "markdown",
   "metadata": {},
   "source": [
    "d) Write code to show how you could calculate the `(Intercept)` and `SexM` coefficients without using the linear regression algorithm."
   ]
  },
  {
   "cell_type": "code",
   "execution_count": null,
   "metadata": {
    "vscode": {
     "languageId": "r"
    }
   },
   "outputs": [],
   "source": [
    "# Your code here for part d)!\n",
    "\n"
   ]
  },
  {
   "cell_type": "markdown",
   "metadata": {},
   "source": [
    "## 🚀 Exercise 2\n",
    "\n",
    "**For each of the parts of Exercise 2, justify your answer by training a linear probability model, calculating a 95% confidence interval, and writing a one sentence explanation.**\n",
    "\n",
    "a) Is each additional year of life sigificantly associated with a higher estimated risk of heart disease?"
   ]
  },
  {
   "cell_type": "code",
   "execution_count": 4,
   "metadata": {
    "vscode": {
     "languageId": "r"
    }
   },
   "outputs": [
    {
     "data": {
      "text/plain": [
       "\n",
       "Call:\n",
       "lm(formula = HeartDisease ~ 1 + Age, data = data)\n",
       "\n",
       "Residuals:\n",
       "   Min     1Q Median     3Q    Max \n",
       "-0.888 -0.497  0.246  0.410  0.781 \n",
       "\n",
       "Coefficients:\n",
       "            Estimate Std. Error t value            Pr(>|t|)    \n",
       "(Intercept) -0.24248    0.09083   -2.67              0.0077 ** \n",
       "Age          0.01487    0.00167    8.90 <0.0000000000000002 ***\n",
       "---\n",
       "Signif. codes:  0 ‘***’ 0.001 ‘**’ 0.01 ‘*’ 0.05 ‘.’ 0.1 ‘ ’ 1\n",
       "\n",
       "Residual standard error: 0.477 on 916 degrees of freedom\n",
       "Multiple R-squared:  0.0795,\tAdjusted R-squared:  0.0785 \n",
       "F-statistic: 79.2 on 1 and 916 DF,  p-value: <0.0000000000000002\n"
      ]
     },
     "metadata": {},
     "output_type": "display_data"
    }
   ],
   "source": [
    "# Your code and written answer here for part a)!\n",
    "\n",
    "lpm = lm(HeartDisease ~ 1 + Age, data=data)\n",
    "summary(lpm)"
   ]
  },
  {
   "cell_type": "markdown",
   "metadata": {},
   "source": [
    "b) For a male patient and a female patient of the same age, does the male patient have a significantly higher estimated risk of heart disease?"
   ]
  },
  {
   "cell_type": "code",
   "execution_count": 6,
   "metadata": {
    "vscode": {
     "languageId": "r"
    }
   },
   "outputs": [
    {
     "data": {
      "text/plain": [
       "\n",
       "Call:\n",
       "lm(formula = HeartDisease ~ 1 + Age + Sex, data = data)\n",
       "\n",
       "Residuals:\n",
       "   Min     1Q Median     3Q    Max \n",
       "-0.929 -0.453  0.190  0.362  1.014 \n",
       "\n",
       "Coefficients:\n",
       "            Estimate Std. Error t value             Pr(>|t|)    \n",
       "(Intercept)  -0.4768     0.0900   -5.30           0.00000015 ***\n",
       "Age           0.0140     0.0016    8.78 < 0.0000000000000002 ***\n",
       "SexM          0.3546     0.0369    9.60 < 0.0000000000000002 ***\n",
       "---\n",
       "Signif. codes:  0 ‘***’ 0.001 ‘**’ 0.01 ‘*’ 0.05 ‘.’ 0.1 ‘ ’ 1\n",
       "\n",
       "Residual standard error: 0.455 on 915 degrees of freedom\n",
       "Multiple R-squared:  0.164,\tAdjusted R-squared:  0.162 \n",
       "F-statistic: 89.6 on 2 and 915 DF,  p-value: <0.0000000000000002\n"
      ]
     },
     "metadata": {},
     "output_type": "display_data"
    }
   ],
   "source": [
    "# Your code and written answer here for part b)!\n",
    "\n",
    "lpm = lm(HeartDisease ~ 1 + Age + Sex, data=data)\n",
    "summary(lpm)"
   ]
  },
  {
   "cell_type": "code",
   "execution_count": 8,
   "metadata": {},
   "outputs": [
    {
     "data": {
      "text/html": [
       "0.0557500991777845"
      ],
      "text/latex": [
       "0.0557500991777845"
      ],
      "text/markdown": [
       "0.0557500991777845"
      ],
      "text/plain": [
       "[1] 0.0558"
      ]
     },
     "metadata": {},
     "output_type": "display_data"
    }
   ],
   "source": [
    "cor(data$Sex=='M', data$Age)"
   ]
  },
  {
   "cell_type": "markdown",
   "metadata": {},
   "source": [
    "c) Does the estimated change in risk per additional year of life significantly differ for male patients versus female patients? "
   ]
  },
  {
   "cell_type": "code",
   "execution_count": 13,
   "metadata": {
    "vscode": {
     "languageId": "r"
    }
   },
   "outputs": [
    {
     "data": {
      "text/plain": [
       "\n",
       "Call:\n",
       "lm(formula = HeartDisease ~ 1 + Age:Sex, data = data)\n",
       "\n",
       "Residuals:\n",
       "   Min     1Q Median     3Q    Max \n",
       "-0.959 -0.418  0.173  0.362  0.909 \n",
       "\n",
       "Coefficients:\n",
       "            Estimate Std. Error t value             Pr(>|t|)    \n",
       "(Intercept) -0.19997    0.08669   -2.31                0.021 *  \n",
       "Age:SexF     0.00880    0.00171    5.14           0.00000034 ***\n",
       "Age:SexM     0.01545    0.00159    9.69 < 0.0000000000000002 ***\n",
       "---\n",
       "Signif. codes:  0 ‘***’ 0.001 ‘**’ 0.01 ‘*’ 0.05 ‘.’ 0.1 ‘ ’ 1\n",
       "\n",
       "Residual standard error: 0.455 on 915 degrees of freedom\n",
       "Multiple R-squared:  0.165,\tAdjusted R-squared:  0.163 \n",
       "F-statistic: 90.1 on 2 and 915 DF,  p-value: <0.0000000000000002\n"
      ]
     },
     "metadata": {},
     "output_type": "display_data"
    }
   ],
   "source": [
    "# Your code and written answer here for part c)!\n",
    "\n",
    "lpm = lm(HeartDisease ~ 1 + Age : Sex, data=data)\n",
    "summary(lpm)"
   ]
  },
  {
   "cell_type": "markdown",
   "metadata": {},
   "source": [
    "## 🚀 Exercise 3\n",
    "\n",
    "For each of the 3 linear probability models from Exercise 2, fit a logistic regression model using the same features. \n",
    "\n",
    "> In other words, you should fit three logistic regression models.\n",
    "\n",
    "Are your answers to Exercise 2 consistent with the output of the logistic regression models? Answer in no more than three sentences."
   ]
  },
  {
   "cell_type": "code",
   "execution_count": 23,
   "metadata": {
    "vscode": {
     "languageId": "r"
    }
   },
   "outputs": [
    {
     "name": "stdout",
     "output_type": "stream",
     "text": [
      "\n",
      "Call:\n",
      "lm(formula = HeartDisease ~ 1 + Sex, data = data)\n",
      "\n",
      "Coefficients:\n",
      "(Intercept)         SexM  \n",
      "      0.259        0.373  \n",
      "\n"
     ]
    },
    {
     "data": {
      "text/plain": [
       "\n",
       "Call:  glm(formula = HeartDisease ~ 1 + Sex, family = \"binomial\", data = data)\n",
       "\n",
       "Coefficients:\n",
       "(Intercept)         SexM  \n",
       "      -1.05         1.59  \n",
       "\n",
       "Degrees of Freedom: 917 Total (i.e. Null);  916 Residual\n",
       "Null Deviance:\t    1260 \n",
       "Residual Deviance: 1170 \tAIC: 1180"
      ]
     },
     "metadata": {},
     "output_type": "display_data"
    }
   ],
   "source": [
    "# Your code here!\n",
    "\n",
    "sex_lpm = lm(HeartDisease ~ 1 + Sex, data=data)\n",
    "print(sex_lpm)\n",
    "glm(HeartDisease ~ 1 + Sex, data=data, family='binomial')"
   ]
  },
  {
   "cell_type": "code",
   "execution_count": 32,
   "metadata": {},
   "outputs": [],
   "source": [
    "# predict(sex_lpm, newdata=tibble(Sex=c('F', Sex='M', Sex='M')))\n",
    "# predict(sex_lpm, newdata=data)\n",
    "# predict(sex_lpm)"
   ]
  },
  {
   "cell_type": "code",
   "execution_count": null,
   "metadata": {
    "vscode": {
     "languageId": "r"
    }
   },
   "outputs": [],
   "source": [
    "# Your written answer here!\n",
    "# \n",
    "# \n",
    "\n"
   ]
  },
  {
   "cell_type": "markdown",
   "metadata": {},
   "source": [
    "## 🚀 Exercise 4\n",
    "\n",
    "a) Fit two models to the dataset:\n",
    "1. A linear probability model accounting for all covariates in the data.\n",
    "2. A logistic regression model accounting for all covariates in the data.\n",
    "\n",
    "> Models like this are often called \"fully saturated\".\n",
    "\n",
    "Print the model summary of each model."
   ]
  },
  {
   "cell_type": "code",
   "execution_count": 17,
   "metadata": {
    "vscode": {
     "languageId": "r"
    }
   },
   "outputs": [],
   "source": [
    "# Your code here for part a)!\n",
    "\n",
    "lpm = lm(HeartDisease ~ ., data=data)\n",
    "logit_model = glm(HeartDisease ~ ., data=data, family='binomial')"
   ]
  },
  {
   "cell_type": "code",
   "execution_count": 34,
   "metadata": {},
   "outputs": [
    {
     "data": {
      "text/html": [
       "<style>\n",
       ".dl-inline {width: auto; margin:0; padding: 0}\n",
       ".dl-inline>dt, .dl-inline>dd {float: none; width: auto; display: inline-block}\n",
       ".dl-inline>dt::after {content: \":\\0020\"; padding-right: .5ex}\n",
       ".dl-inline>dt:not(:first-of-type) {padding-left: .5ex}\n",
       "</style><dl class=dl-inline><dt>1</dt><dd>0.0330477161441564</dd><dt>2</dt><dd>0.246107253248267</dd><dt>3</dt><dd>0.0385198687205253</dd><dt>4</dt><dd>0.833955349953715</dd><dt>5</dt><dd>0.0865293656096262</dd><dt>6</dt><dd>0.0284934863406335</dd><dt>7</dt><dd>0.0101576891465403</dd><dt>8</dt><dd>0.0568737592570534</dd><dt>9</dt><dd>0.944862291701355</dd><dt>10</dt><dd>0.0104505246762977</dd></dl>\n"
      ],
      "text/latex": [
       "\\begin{description*}\n",
       "\\item[1] 0.0330477161441564\n",
       "\\item[2] 0.246107253248267\n",
       "\\item[3] 0.0385198687205253\n",
       "\\item[4] 0.833955349953715\n",
       "\\item[5] 0.0865293656096262\n",
       "\\item[6] 0.0284934863406335\n",
       "\\item[7] 0.0101576891465403\n",
       "\\item[8] 0.0568737592570534\n",
       "\\item[9] 0.944862291701355\n",
       "\\item[10] 0.0104505246762977\n",
       "\\end{description*}\n"
      ],
      "text/markdown": [
       "1\n",
       ":   0.03304771614415642\n",
       ":   0.2461072532482673\n",
       ":   0.03851986872052534\n",
       ":   0.8339553499537155\n",
       ":   0.08652936560962626\n",
       ":   0.02849348634063357\n",
       ":   0.01015768914654038\n",
       ":   0.05687375925705349\n",
       ":   0.94486229170135510\n",
       ":   0.0104505246762977\n",
       "\n"
      ],
      "text/plain": [
       "     1      2      3      4      5      6      7      8      9     10 \n",
       "0.0330 0.2461 0.0385 0.8340 0.0865 0.0285 0.0102 0.0569 0.9449 0.0105 "
      ]
     },
     "metadata": {},
     "output_type": "display_data"
    }
   ],
   "source": [
    "log_odds = predict(logit_model)\n",
    "odds = exp(log_odds)\n",
    "probs = odds / (1 + odds)\n",
    "probs[1:10]"
   ]
  },
  {
   "cell_type": "code",
   "execution_count": 35,
   "metadata": {},
   "outputs": [
    {
     "data": {
      "text/html": [
       "<style>\n",
       ".dl-inline {width: auto; margin:0; padding: 0}\n",
       ".dl-inline>dt, .dl-inline>dd {float: none; width: auto; display: inline-block}\n",
       ".dl-inline>dt::after {content: \":\\0020\"; padding-right: .5ex}\n",
       ".dl-inline>dt:not(:first-of-type) {padding-left: .5ex}\n",
       "</style><dl class=dl-inline><dt>1</dt><dd>0.0330477161441564</dd><dt>2</dt><dd>0.246107253248267</dd><dt>3</dt><dd>0.0385198687205253</dd><dt>4</dt><dd>0.833955349953715</dd><dt>5</dt><dd>0.0865293656096262</dd><dt>6</dt><dd>0.0284934863406335</dd><dt>7</dt><dd>0.0101576891465403</dd><dt>8</dt><dd>0.0568737592570534</dd><dt>9</dt><dd>0.944862291701355</dd><dt>10</dt><dd>0.0104505246762977</dd></dl>\n"
      ],
      "text/latex": [
       "\\begin{description*}\n",
       "\\item[1] 0.0330477161441564\n",
       "\\item[2] 0.246107253248267\n",
       "\\item[3] 0.0385198687205253\n",
       "\\item[4] 0.833955349953715\n",
       "\\item[5] 0.0865293656096262\n",
       "\\item[6] 0.0284934863406335\n",
       "\\item[7] 0.0101576891465403\n",
       "\\item[8] 0.0568737592570534\n",
       "\\item[9] 0.944862291701355\n",
       "\\item[10] 0.0104505246762977\n",
       "\\end{description*}\n"
      ],
      "text/markdown": [
       "1\n",
       ":   0.03304771614415642\n",
       ":   0.2461072532482673\n",
       ":   0.03851986872052534\n",
       ":   0.8339553499537155\n",
       ":   0.08652936560962626\n",
       ":   0.02849348634063357\n",
       ":   0.01015768914654038\n",
       ":   0.05687375925705349\n",
       ":   0.94486229170135510\n",
       ":   0.0104505246762977\n",
       "\n"
      ],
      "text/plain": [
       "     1      2      3      4      5      6      7      8      9     10 \n",
       "0.0330 0.2461 0.0385 0.8340 0.0865 0.0285 0.0102 0.0569 0.9449 0.0105 "
      ]
     },
     "metadata": {},
     "output_type": "display_data"
    }
   ],
   "source": [
    "logit_preds = predict(logit_model, type='response')\n",
    "logit_preds[1:10]"
   ]
  },
  {
   "cell_type": "markdown",
   "metadata": {},
   "source": [
    "b) Create a plot to compare the estimated probabilities for the fully saturated logistic regression model and the fully saturated linear probability model. \n",
    "\n",
    "> The choice of plot is up to you, as long as your chosen plot allows for comparison of the probabilities. \n",
    "\n",
    "In no more than two sentences, compare the estimated probabilities of each model."
   ]
  },
  {
   "cell_type": "code",
   "execution_count": null,
   "metadata": {
    "vscode": {
     "languageId": "r"
    }
   },
   "outputs": [],
   "source": [
    "# Your code here for part b)!\n",
    "\n"
   ]
  },
  {
   "cell_type": "code",
   "execution_count": null,
   "metadata": {
    "vscode": {
     "languageId": "r"
    }
   },
   "outputs": [],
   "source": [
    "# Your written answer for part b)!\n",
    "# \n",
    "# \n",
    "\n"
   ]
  },
  {
   "cell_type": "markdown",
   "metadata": {},
   "source": [
    "## 🚀 Exercise 5\n",
    "\n",
    "Using a threshold of 0.5, calculate and compare the accuracy of the linear probability model and the logistic regression models from Exercise 4."
   ]
  },
  {
   "cell_type": "code",
   "execution_count": null,
   "metadata": {
    "vscode": {
     "languageId": "r"
    }
   },
   "outputs": [],
   "source": [
    "# Your code here! \n",
    "\n"
   ]
  },
  {
   "cell_type": "markdown",
   "metadata": {},
   "source": [
    "## 🚀 Exercise 6\n",
    "\n",
    "Plot the ROC curve for the logistic regression model from Exercise 5. \n",
    "\n",
    "> Plot the ROC curve manually with `ggplot2`. In other words, do not use an external package to generate the plot.\n",
    "\n",
    "Identify where on the curve corresponds to the threshold of 0.5. \n",
    "\n",
    "Provide a one-sentence description of how you identified the point corresponding to the 0.5 threshold."
   ]
  },
  {
   "cell_type": "code",
   "execution_count": null,
   "metadata": {
    "vscode": {
     "languageId": "r"
    }
   },
   "outputs": [],
   "source": [
    "# Your code here!\n",
    "\n"
   ]
  },
  {
   "cell_type": "code",
   "execution_count": null,
   "metadata": {
    "vscode": {
     "languageId": "r"
    }
   },
   "outputs": [],
   "source": [
    "# Your written answer here!\n",
    "# \n",
    "# \n",
    "\n"
   ]
  },
  {
   "cell_type": "markdown",
   "metadata": {},
   "source": [
    "## 🚀 Exercise 7\n",
    "\n",
    "a) In two sentences, describe what a false negative and false positive is in the context of the logistic regression model from Exercises 5-7."
   ]
  },
  {
   "cell_type": "code",
   "execution_count": null,
   "metadata": {
    "vscode": {
     "languageId": "r"
    }
   },
   "outputs": [],
   "source": [
    "# Your written answer for Part a)\n",
    "# \n",
    "# \n",
    "\n"
   ]
  },
  {
   "cell_type": "markdown",
   "metadata": {},
   "source": [
    "b) Suppose that a clinical expert tells you that a false negative is 4 times worse than a false positive for this problem. Find the optimal threshold for the logistic regression model using this information."
   ]
  },
  {
   "cell_type": "code",
   "execution_count": null,
   "metadata": {
    "vscode": {
     "languageId": "r"
    }
   },
   "outputs": [],
   "source": [
    "# Your code here for Part b!\n",
    "\n",
    "relative_cost = 4\n",
    "thresholds = seq(0, 1, by=0.01)\n",
    "\n"
   ]
  },
  {
   "cell_type": "markdown",
   "metadata": {},
   "source": [
    "c) Using the threshold you computed in part b), compute the true positive rate and false positive rate, and interpret these values in the context of the problem."
   ]
  },
  {
   "cell_type": "code",
   "execution_count": null,
   "metadata": {
    "vscode": {
     "languageId": "r"
    }
   },
   "outputs": [],
   "source": [
    "# Your code here for Part c!\n",
    "\n"
   ]
  },
  {
   "cell_type": "code",
   "execution_count": null,
   "metadata": {
    "vscode": {
     "languageId": "r"
    }
   },
   "outputs": [],
   "source": [
    "# Your written answer for part c!\n",
    "# \n",
    "# \n",
    "\n"
   ]
  }
 ],
 "metadata": {
  "kernelspec": {
   "display_name": "R",
   "language": "R",
   "name": "ir"
  },
  "language_info": {
   "codemirror_mode": "r",
   "file_extension": ".r",
   "mimetype": "text/x-r-source",
   "name": "R",
   "pygments_lexer": "r",
   "version": "4.2.1"
  }
 },
 "nbformat": 4,
 "nbformat_minor": 4
}

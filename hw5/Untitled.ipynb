{
 "cells": [
  {
   "cell_type": "code",
   "execution_count": 1,
   "id": "8e072181-f4ea-408d-a64e-bd15bbc8ae6b",
   "metadata": {},
   "outputs": [
    {
     "ename": "ERROR",
     "evalue": "Error in library(glmnet): there is no package called ‘glmnet’\n",
     "output_type": "error",
     "traceback": [
      "Error in library(glmnet): there is no package called ‘glmnet’\nTraceback:\n",
      "1. library(glmnet)"
     ]
    }
   ],
   "source": [
    "library(glmnet)"
   ]
  },
  {
   "cell_type": "code",
   "execution_count": null,
   "id": "1dc7938a-fd28-4149-80e4-78cb0f064e78",
   "metadata": {},
   "outputs": [],
   "source": []
  }
 ],
 "metadata": {
  "kernelspec": {
   "display_name": "R",
   "language": "R",
   "name": "ir"
  },
  "language_info": {
   "codemirror_mode": "r",
   "file_extension": ".r",
   "mimetype": "text/x-r-source",
   "name": "R",
   "pygments_lexer": "r",
   "version": "4.2.1"
  }
 },
 "nbformat": 4,
 "nbformat_minor": 5
}

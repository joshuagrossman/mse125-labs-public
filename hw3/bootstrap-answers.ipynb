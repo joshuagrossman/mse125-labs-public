{
 "cells": [
  {
   "cell_type": "markdown",
   "metadata": {},
   "source": [
    "# 🥾 Lecture 5 Lab: The Bootstrap"
   ]
  },
  {
   "cell_type": "markdown",
   "metadata": {
    "tags": []
   },
   "source": [
    "<img src=\"img/bootstraps.jpeg\" alt= “bootstraps” width=\"350\" /> <img src=\"img/bootstrap-cartoon.jpeg\" alt= “bootstrap-cartoon” width=\"300\" />"
   ]
  },
  {
   "cell_type": "markdown",
   "metadata": {
    "tags": []
   },
   "source": [
    "## ✅ Setup and data import\n",
    "In this lab, we will work with salary data from 2022 for employees of the state of California. \n",
    "The data [are](https://digitalblog.ons.gov.uk/2016/12/08/data-is-versus-data-are/#:~:text=The%20grammatically%20correct%20approach%20is,the%20latin%20word%20'datum'.) provided by [Transparent California](https://transparentcalifornia.com/)."
   ]
  },
  {
   "cell_type": "code",
   "execution_count": 80,
   "metadata": {},
   "outputs": [
    {
     "name": "stderr",
     "output_type": "stream",
     "text": [
      "\u001b[1mRows: \u001b[22m\u001b[34m261556\u001b[39m \u001b[1mColumns: \u001b[22m\u001b[34m2\u001b[39m\n",
      "\u001b[36m──\u001b[39m \u001b[1mColumn specification\u001b[22m \u001b[36m───────────────────────────────────────────────\u001b[39m\n",
      "\u001b[1mDelimiter:\u001b[22m \",\"\n",
      "\u001b[31mchr\u001b[39m (1): title\n",
      "\u001b[32mdbl\u001b[39m (1): pay\n",
      "\n",
      "\u001b[36mℹ\u001b[39m Use `spec()` to retrieve the full column specification for this data.\n",
      "\u001b[36mℹ\u001b[39m Specify the column types or set `show_col_types = FALSE` to quiet this message.\n"
     ]
    },
    {
     "data": {
      "text/html": [
       "<table class=\"dataframe\">\n",
       "<caption>A spec_tbl_df: 10 × 2</caption>\n",
       "<thead>\n",
       "\t<tr><th scope=col>title</th><th scope=col>pay</th></tr>\n",
       "\t<tr><th scope=col>&lt;chr&gt;</th><th scope=col>&lt;dbl&gt;</th></tr>\n",
       "</thead>\n",
       "<tbody>\n",
       "\t<tr><td>Correctional Sergeant                                        </td><td>112018</td></tr>\n",
       "\t<tr><td>Staff Services Manager Ii (Managerial)                       </td><td>102411</td></tr>\n",
       "\t<tr><td>Dentist, Correctional Facility                               </td><td>239099</td></tr>\n",
       "\t<tr><td>Correctional Officer                                         </td><td>106593</td></tr>\n",
       "\t<tr><td>Member Helper V, Veterans Home/Department Of Veterans Affairs</td><td>  4800</td></tr>\n",
       "\t<tr><td>Correctional Officer                                         </td><td>  3027</td></tr>\n",
       "\t<tr><td>Associate Governmental Program Analyst                       </td><td> 82180</td></tr>\n",
       "\t<tr><td>Manager I Department Of Motor Vehicles                       </td><td> 32789</td></tr>\n",
       "\t<tr><td>Caltrans Highway Maintenance Worker                          </td><td>  3673</td></tr>\n",
       "\t<tr><td>Correctional Officer                                         </td><td>142017</td></tr>\n",
       "</tbody>\n",
       "</table>\n"
      ],
      "text/latex": [
       "A spec\\_tbl\\_df: 10 × 2\n",
       "\\begin{tabular}{ll}\n",
       " title & pay\\\\\n",
       " <chr> & <dbl>\\\\\n",
       "\\hline\n",
       "\t Correctional Sergeant                                         & 112018\\\\\n",
       "\t Staff Services Manager Ii (Managerial)                        & 102411\\\\\n",
       "\t Dentist, Correctional Facility                                & 239099\\\\\n",
       "\t Correctional Officer                                          & 106593\\\\\n",
       "\t Member Helper V, Veterans Home/Department Of Veterans Affairs &   4800\\\\\n",
       "\t Correctional Officer                                          &   3027\\\\\n",
       "\t Associate Governmental Program Analyst                        &  82180\\\\\n",
       "\t Manager I Department Of Motor Vehicles                        &  32789\\\\\n",
       "\t Caltrans Highway Maintenance Worker                           &   3673\\\\\n",
       "\t Correctional Officer                                          & 142017\\\\\n",
       "\\end{tabular}\n"
      ],
      "text/markdown": [
       "\n",
       "A spec_tbl_df: 10 × 2\n",
       "\n",
       "| title &lt;chr&gt; | pay &lt;dbl&gt; |\n",
       "|---|---|\n",
       "| Correctional Sergeant                                         | 112018 |\n",
       "| Staff Services Manager Ii (Managerial)                        | 102411 |\n",
       "| Dentist, Correctional Facility                                | 239099 |\n",
       "| Correctional Officer                                          | 106593 |\n",
       "| Member Helper V, Veterans Home/Department Of Veterans Affairs |   4800 |\n",
       "| Correctional Officer                                          |   3027 |\n",
       "| Associate Governmental Program Analyst                        |  82180 |\n",
       "| Manager I Department Of Motor Vehicles                        |  32789 |\n",
       "| Caltrans Highway Maintenance Worker                           |   3673 |\n",
       "| Correctional Officer                                          | 142017 |\n",
       "\n"
      ],
      "text/plain": [
       "   title                                                         pay   \n",
       "1  Correctional Sergeant                                         112018\n",
       "2  Staff Services Manager Ii (Managerial)                        102411\n",
       "3  Dentist, Correctional Facility                                239099\n",
       "4  Correctional Officer                                          106593\n",
       "5  Member Helper V, Veterans Home/Department Of Veterans Affairs   4800\n",
       "6  Correctional Officer                                            3027\n",
       "7  Associate Governmental Program Analyst                         82180\n",
       "8  Manager I Department Of Motor Vehicles                         32789\n",
       "9  Caltrans Highway Maintenance Worker                             3673\n",
       "10 Correctional Officer                                          142017"
      ]
     },
     "metadata": {},
     "output_type": "display_data"
    }
   ],
   "source": [
    "# Load in additional functions\n",
    "library(tidyverse)\n",
    "library(lubridate)\n",
    "\n",
    "# Use three digits past the decimal point\n",
    "options(digits = 3)\n",
    "\n",
    "# Format plots with a white background and dark features.\n",
    "theme_set(theme_bw())\n",
    "\n",
    "# Increase the default text size of plots.\n",
    "# If you are *not* working in Google Colab, we recommend commenting\n",
    "# out this line of code.\n",
    "theme_update(text = element_text(size = 20))\n",
    "\n",
    "# Increase the default plot width and height.\n",
    "# If you are *not* working in Google Colab, we recommend commenting\n",
    "# out this line of code.\n",
    "options(repr.plot.width=12, repr.plot.height=8)\n",
    "\n",
    "salaries = read_csv(\"https://jdgrossman.com/assets/california-salaries-2022.csv\")\n",
    "\n",
    "# peek at 10 random rows\n",
    "sample_n(salaries, 10)"
   ]
  },
  {
   "cell_type": "markdown",
   "metadata": {},
   "source": [
    "### ♨️ Warm up\n",
    "\n",
    "How many individuals are in the dataset? Compute the mean, median, and 90th percentile salary among California employees in 2022. Which job(s) have the lowest pay? Which have the highest pay?"
   ]
  },
  {
   "cell_type": "code",
   "execution_count": 81,
   "metadata": {},
   "outputs": [
    {
     "data": {
      "text/html": [
       "261556"
      ],
      "text/latex": [
       "261556"
      ],
      "text/markdown": [
       "261556"
      ],
      "text/plain": [
       "[1] 261556"
      ]
     },
     "metadata": {},
     "output_type": "display_data"
    },
    {
     "data": {
      "text/html": [
       "<table class=\"dataframe\">\n",
       "<caption>A tibble: 1 × 3</caption>\n",
       "<thead>\n",
       "\t<tr><th scope=col>mean(pay)</th><th scope=col>median(pay)</th><th scope=col>quantile(pay, probs = 0.9)</th></tr>\n",
       "\t<tr><th scope=col>&lt;dbl&gt;</th><th scope=col>&lt;dbl&gt;</th><th scope=col>&lt;dbl&gt;</th></tr>\n",
       "</thead>\n",
       "<tbody>\n",
       "\t<tr><td>84177</td><td>78564</td><td>149956</td></tr>\n",
       "</tbody>\n",
       "</table>\n"
      ],
      "text/latex": [
       "A tibble: 1 × 3\n",
       "\\begin{tabular}{lll}\n",
       " mean(pay) & median(pay) & quantile(pay, probs = 0.9)\\\\\n",
       " <dbl> & <dbl> & <dbl>\\\\\n",
       "\\hline\n",
       "\t 84177 & 78564 & 149956\\\\\n",
       "\\end{tabular}\n"
      ],
      "text/markdown": [
       "\n",
       "A tibble: 1 × 3\n",
       "\n",
       "| mean(pay) &lt;dbl&gt; | median(pay) &lt;dbl&gt; | quantile(pay, probs = 0.9) &lt;dbl&gt; |\n",
       "|---|---|---|\n",
       "| 84177 | 78564 | 149956 |\n",
       "\n"
      ],
      "text/plain": [
       "  mean(pay) median(pay) quantile(pay, probs = 0.9)\n",
       "1 84177     78564       149956                    "
      ]
     },
     "metadata": {},
     "output_type": "display_data"
    },
    {
     "data": {
      "text/html": [
       "<table class=\"dataframe\">\n",
       "<caption>A spec_tbl_df: 1 × 2</caption>\n",
       "<thead>\n",
       "\t<tr><th scope=col>title</th><th scope=col>pay</th></tr>\n",
       "\t<tr><th scope=col>&lt;chr&gt;</th><th scope=col>&lt;dbl&gt;</th></tr>\n",
       "</thead>\n",
       "<tbody>\n",
       "\t<tr><td>Chief Investment Officer, California State Teachers' Retirement System</td><td>1683398</td></tr>\n",
       "</tbody>\n",
       "</table>\n"
      ],
      "text/latex": [
       "A spec\\_tbl\\_df: 1 × 2\n",
       "\\begin{tabular}{ll}\n",
       " title & pay\\\\\n",
       " <chr> & <dbl>\\\\\n",
       "\\hline\n",
       "\t Chief Investment Officer, California State Teachers' Retirement System & 1683398\\\\\n",
       "\\end{tabular}\n"
      ],
      "text/markdown": [
       "\n",
       "A spec_tbl_df: 1 × 2\n",
       "\n",
       "| title &lt;chr&gt; | pay &lt;dbl&gt; |\n",
       "|---|---|\n",
       "| Chief Investment Officer, California State Teachers' Retirement System | 1683398 |\n",
       "\n"
      ],
      "text/plain": [
       "  title                                                                 \n",
       "1 Chief Investment Officer, California State Teachers' Retirement System\n",
       "  pay    \n",
       "1 1683398"
      ]
     },
     "metadata": {},
     "output_type": "display_data"
    },
    {
     "data": {
      "text/html": [
       "<table class=\"dataframe\">\n",
       "<caption>A spec_tbl_df: 1 × 2</caption>\n",
       "<thead>\n",
       "\t<tr><th scope=col>title</th><th scope=col>pay</th></tr>\n",
       "\t<tr><th scope=col>&lt;chr&gt;</th><th scope=col>&lt;dbl&gt;</th></tr>\n",
       "</thead>\n",
       "<tbody>\n",
       "\t<tr><td>Chief Investment Officer, California State Teachers' Retirement System</td><td>1683398</td></tr>\n",
       "</tbody>\n",
       "</table>\n"
      ],
      "text/latex": [
       "A spec\\_tbl\\_df: 1 × 2\n",
       "\\begin{tabular}{ll}\n",
       " title & pay\\\\\n",
       " <chr> & <dbl>\\\\\n",
       "\\hline\n",
       "\t Chief Investment Officer, California State Teachers' Retirement System & 1683398\\\\\n",
       "\\end{tabular}\n"
      ],
      "text/markdown": [
       "\n",
       "A spec_tbl_df: 1 × 2\n",
       "\n",
       "| title &lt;chr&gt; | pay &lt;dbl&gt; |\n",
       "|---|---|\n",
       "| Chief Investment Officer, California State Teachers' Retirement System | 1683398 |\n",
       "\n"
      ],
      "text/plain": [
       "  title                                                                 \n",
       "1 Chief Investment Officer, California State Teachers' Retirement System\n",
       "  pay    \n",
       "1 1683398"
      ]
     },
     "metadata": {},
     "output_type": "display_data"
    },
    {
     "data": {
      "text/html": [
       "<table class=\"dataframe\">\n",
       "<caption>A spec_tbl_df: 1 × 2</caption>\n",
       "<thead>\n",
       "\t<tr><th scope=col>title</th><th scope=col>pay</th></tr>\n",
       "\t<tr><th scope=col>&lt;chr&gt;</th><th scope=col>&lt;dbl&gt;</th></tr>\n",
       "</thead>\n",
       "<tbody>\n",
       "\t<tr><td>E4</td><td>-86</td></tr>\n",
       "</tbody>\n",
       "</table>\n"
      ],
      "text/latex": [
       "A spec\\_tbl\\_df: 1 × 2\n",
       "\\begin{tabular}{ll}\n",
       " title & pay\\\\\n",
       " <chr> & <dbl>\\\\\n",
       "\\hline\n",
       "\t E4 & -86\\\\\n",
       "\\end{tabular}\n"
      ],
      "text/markdown": [
       "\n",
       "A spec_tbl_df: 1 × 2\n",
       "\n",
       "| title &lt;chr&gt; | pay &lt;dbl&gt; |\n",
       "|---|---|\n",
       "| E4 | -86 |\n",
       "\n"
      ],
      "text/plain": [
       "  title pay\n",
       "1 E4    -86"
      ]
     },
     "metadata": {},
     "output_type": "display_data"
    }
   ],
   "source": [
    "# Your code here!\n",
    "\n",
    "# START solution\n",
    "\n",
    "# About 262k California employees\n",
    "nrow(salaries)\n",
    "\n",
    "# 84k mean, 79k median, 150k 90th percentile\n",
    "salaries %>% \n",
    "  summarize(mean(pay),\n",
    "            median(pay),\n",
    "            quantile(pay, probs=0.9)\n",
    "           )\n",
    "\n",
    "# One way to get max pay. \n",
    "salaries %>%\n",
    "  filter(pay == max(pay))\n",
    "\n",
    "# Another method. Arrange in descending order by pay and pick out the first row.\n",
    "salaries %>%\n",
    "  arrange(desc(pay)) %>%\n",
    "  slice(1)\n",
    " \n",
    "# The lowest paying job has a negative salary? Probably not. For a more\n",
    "# rigorous analysis, we would probably fix or remove rows like this.\n",
    "salaries %>%\n",
    "  arrange(pay) %>%\n",
    "  slice(1)\n",
    "\n",
    "# END solution"
   ]
  },
  {
   "cell_type": "markdown",
   "metadata": {},
   "source": [
    "## 💰 A random sample of salaries"
   ]
  },
  {
   "cell_type": "markdown",
   "metadata": {},
   "source": [
    "Above, we calculated population-level statistics for salary data. No inference required! \n",
    "\n",
    "However, suppose the state of California did not publicly report salaries for all 262k state employees. \n",
    "\n",
    "Instead, suppose all we could get is a random sample of 500 salaries. Using these 500 salaries, can we say something meaningful about the salaries of all California employees?"
   ]
  },
  {
   "cell_type": "code",
   "execution_count": 82,
   "metadata": {},
   "outputs": [
    {
     "data": {
      "text/html": [
       "<style>\n",
       ".list-inline {list-style: none; margin:0; padding: 0}\n",
       ".list-inline>li {display: inline-block}\n",
       ".list-inline>li:not(:last-child)::after {content: \"\\00b7\"; padding: 0 .5ex}\n",
       "</style>\n",
       "<ol class=list-inline><li>159013</li><li>72660</li><li>28701</li><li>115491</li><li>165667</li><li>145947</li></ol>\n"
      ],
      "text/latex": [
       "\\begin{enumerate*}\n",
       "\\item 159013\n",
       "\\item 72660\n",
       "\\item 28701\n",
       "\\item 115491\n",
       "\\item 165667\n",
       "\\item 145947\n",
       "\\end{enumerate*}\n"
      ],
      "text/markdown": [
       "1. 159013\n",
       "2. 72660\n",
       "3. 28701\n",
       "4. 115491\n",
       "5. 165667\n",
       "6. 145947\n",
       "\n",
       "\n"
      ],
      "text/plain": [
       "[1] 159013  72660  28701 115491 165667 145947"
      ]
     },
     "metadata": {},
     "output_type": "display_data"
    }
   ],
   "source": [
    "n = 500\n",
    "\n",
    "sample_pay = sample(salaries$pay, size=500, replace=FALSE) \n",
    "\n",
    "head(sample_pay)"
   ]
  },
  {
   "cell_type": "markdown",
   "metadata": {},
   "source": [
    "🚀 **Exercise**: The formula for the estimated standard error of a population proportion, which we derived last week, is below. Using the formula, construct an 80% confidence interval for the proportion of California employees with salaries over \\\\$100,000. Does your interval contain the actual fraction of salaries above \\\\$100,000? If yes, is the actual fraction of salaries near the middle of your interval? Re-run the sampling a couple times to see how often your interval does or does not contain the estimand.\n",
    "\n",
    "$$\\hat{{\\text{se}}}({\\hat{p}}) = \\sqrt{\\frac{\\hat{p}(1-\\hat{p})}{n}}$$"
   ]
  },
  {
   "cell_type": "code",
   "execution_count": 83,
   "metadata": {},
   "outputs": [
    {
     "name": "stdout",
     "output_type": "stream",
     "text": [
      "[1] \"Confidence interval:\"\n",
      "[1] 0.332 0.388\n",
      "[1] \"True proportion of salaries over 100,000\"\n"
     ]
    },
    {
     "data": {
      "text/html": [
       "0.336394500604077"
      ],
      "text/latex": [
       "0.336394500604077"
      ],
      "text/markdown": [
       "0.336394500604077"
      ],
      "text/plain": [
       "[1] 0.336"
      ]
     },
     "metadata": {},
     "output_type": "display_data"
    }
   ],
   "source": [
    "# Your code here!\n",
    "\n",
    "# START answer\n",
    "\n",
    "p_hat = mean(sample_pay >= 100000)\n",
    "moe = qnorm(0.9)*sqrt(p_hat*(1-p_hat)/length(sample_pay))\n",
    "\n",
    "print('Confidence interval:')\n",
    "print(c(p_hat - moe, p_hat + moe))\n",
    "\n",
    "print('True proportion of salaries over 100,000')\n",
    "mean(salaries$pay >= 100000)\n",
    "\n",
    "# END answer"
   ]
  },
  {
   "cell_type": "markdown",
   "metadata": {},
   "source": [
    "## 🤔 Inference with statistics other than proportions and averages"
   ]
  },
  {
   "cell_type": "markdown",
   "metadata": {},
   "source": [
    "The closed-form expression (i.e., formula) for the standard error of a proportion performs relatively well, as we saw above. \n",
    "\n",
    "But, we cannot easily calculate closed-form expressions for every estimator.\n",
    "\n",
    "For example, how would we go about calculating the standard error of the 90th percentile of a distribution? It's not so simple! \n",
    "\n",
    "For more complex estimators, our best solution is **the bootstrap**."
   ]
  },
  {
   "cell_type": "markdown",
   "metadata": {},
   "source": [
    "## 🥜 The boostrap, in a nutshell"
   ]
  },
  {
   "cell_type": "markdown",
   "metadata": {},
   "source": [
    "An alternative approach to calculating the standard error analytically: we could (1) take multiple samples of salaries (\"parallel universes\"), (2) calculate an estimate of the 90th percentile salary in each sample, and (3) compute the standard deviation of the estimates across parallel universes. This process would provide a nice approximation of the true standard error. \n",
    "\n",
    "The problem: parallel universes aren't easily accessible. We usually get one shot at sampling.\n",
    "\n",
    "A side door solution: if we are willing to assume that our sample is sufficiently representative of the population, we could randomly draw **new, synthetic samples** from our real sample. In this way, we can construct synthetic parallel universes. **This is the core idea of the bootstrap.**\n",
    "\n",
    "<img src=\"img/bootstrap-overview.png\" alt= “bootstrap-overview” width=\"600\" />"
   ]
  },
  {
   "cell_type": "markdown",
   "metadata": {},
   "source": [
    "## 👢 Bootstrap sampling"
   ]
  },
  {
   "cell_type": "markdown",
   "metadata": {},
   "source": [
    "We can create synthetic parallel universes by **resampling from our observed data with replacement**, and then computing our estimate using new, synthetic samples.\n",
    "\n",
    "The bootstrap resampling process for the 90th percentile estimator is below. \n",
    "\n",
    "1. Draw $X_1^*,\\dots,X_{500}^* \\sim \\hat{F}_{500}$ \n",
    "2. Compute $\\hat{\\theta}_{500}^* = q_{90}(X_1^*,\\dots,X_{500}^*)$\n",
    "\n",
    "> $\\hat{\\text{F}}_n$ is known as the **empirical distribution function** for a sample size of $n$. $\\hat{\\text{F}}_n$ assigns mass $1/\\text{n}$ to each sample observation. \n",
    ">\n",
    "> $q_{90}$ is a function that returns the 90th percentile of its input.\n",
    ">\n",
    "> A star$^*$ next to a term implies that it's a synthetic term. In other words, it's not from a real sample or an estimate based on a real sample.\n",
    "\n",
    "Think of the resampling process like putting all $n$ real observations from our sample in a bag, and then randomly drawing $n$ observations from the bag. After we draw each observation, we put it back, so the same observation can be drawn multiple times.\n",
    "\n",
    "<img src=\"img/resampling.png\" alt= “bootstrap-resampling” width=\"600\" />\n",
    "\n",
    "Let's try this in `R`!"
   ]
  },
  {
   "cell_type": "markdown",
   "metadata": {},
   "source": [
    "🚀 **Exercise**: Generate a single bootstrap sample from our sample of 500 salaries. Calculate the 90th percentile of the bootstrap sample.\n",
    "\n",
    "Bonus: Write an `R` function `get_boot_90` to generate a bootstrapped 90th percentile from a input sample.\n",
    "\n",
    "Some things to keep in mind:\n",
    "\n",
    "- The `sample` command may come in handy. See `?sample`.\n",
    "- How many observations should we resample from our 500 salaries?\n",
    "- Why do we need to sample with replacement?"
   ]
  },
  {
   "cell_type": "code",
   "execution_count": 84,
   "metadata": {},
   "outputs": [
    {
     "name": "stdout",
     "output_type": "stream",
     "text": [
      "[1] \"One bootstrap sample:\"\n",
      "[1] 138342 132770  72966 105416  56761  58246\n",
      "[1] \"90th percentile of one bootstrap sample:\"\n",
      "   90% \n",
      "153363 \n",
      "[1] \"Bootstrapped 90th percentiles:\"\n",
      "   90% \n",
      "145626 \n",
      "   90% \n",
      "149244 \n",
      "   90% \n",
      "154822 \n"
     ]
    }
   ],
   "source": [
    "# Your code here!\n",
    "\n",
    "# START solution\n",
    "\n",
    "# We want to replicate the features of our estimator.\n",
    "# The size of our sample is a critical feature of the estimator.\n",
    "# So, we should sample 500 times with replacement.\n",
    "\n",
    "# generate one bootstrap sample\n",
    "n = length(sample_pay)\n",
    "boot_sample = sample(sample_pay, n, replace = TRUE)\n",
    "print(\"One bootstrap sample:\")\n",
    "print(head(boot_sample))\n",
    "\n",
    "# find 90th percentile of bootstrap sample\n",
    "print(\"90th percentile of one bootstrap sample:\")\n",
    "print(quantile(boot_sample, probs=0.9))\n",
    "\n",
    "# For convenience, we can functionalize this process.\n",
    "get_boot_90 = function(input_sample) {\n",
    "    n = length(input_sample)\n",
    "    boot_sample = sample(input_sample, n, replace = TRUE)\n",
    "    \n",
    "    q_90_star = quantile(boot_sample, 0.9)\n",
    "  \n",
    "    # the last line of an R function is automatically returned\n",
    "    q_90_star\n",
    "}\n",
    "\n",
    "print(\"Bootstrapped 90th percentiles:\")\n",
    "print(get_boot_90(sample_pay))\n",
    "print(get_boot_90(sample_pay))\n",
    "print(get_boot_90(sample_pay))\n",
    "\n",
    "# END solution"
   ]
  },
  {
   "cell_type": "markdown",
   "metadata": {},
   "source": [
    "## 🔔 Bootstrapped sampling distribution"
   ]
  },
  {
   "cell_type": "markdown",
   "metadata": {},
   "source": [
    "We can repeat the process above many times to approximate the sampling distribution of the estimator for the 90th percentile salary.\n",
    "\n",
    "Note that we **only use the bootstrapped sampling distribution to calculate the standard error** of our estimator, not its expected value! \n",
    "\n",
    "Our best guess of the expected value is the 90th percentile of the **original** sample of 500 salaries."
   ]
  },
  {
   "cell_type": "markdown",
   "metadata": {},
   "source": [
    "🚀 **Exercise**:\n",
    "\n",
    "Generate `B` bootstrap samples, and calculate the 90th percentile of each sample. Using your `B` bootstrapped estimates of the 90th percentile of salaries, calculate the estimated standard error of our estimator of the 90th percentile, and construct a confidence interval using the normal approximation. \n",
    "\n",
    "Some things to keep in mind:\n",
    "\n",
    "- The `replicate` command may come in handy.\n",
    "- How many bootstrap samples should we generate? In other words, what's a good value of `B`?\n",
    "- What should be the point estimate of our confidence interval?\n",
    "- Is the normal approximation reasonable?\n"
   ]
  },
  {
   "cell_type": "code",
   "execution_count": 87,
   "metadata": {},
   "outputs": [
    {
     "name": "stdout",
     "output_type": "stream",
     "text": [
      "[1] \"Standard deviation of bootstrapped 90th percentiles:\"\n",
      "[1] 3754\n",
      "[1] \"Bootstrapped confidence interval of the 90th percentile income: \"\n",
      "   90%    90% \n",
      "141886 156603 \n",
      "[1] \"True 90th percentile of salaries:\"\n"
     ]
    },
    {
     "data": {
      "text/html": [
       "<strong>90%:</strong> 149955.5"
      ],
      "text/latex": [
       "\\textbf{90\\textbackslash{}\\%:} 149955.5"
      ],
      "text/markdown": [
       "**90%:** 149955.5"
      ],
      "text/plain": [
       "   90% \n",
       "149956 "
      ]
     },
     "metadata": {},
     "output_type": "display_data"
    },
    {
     "data": {
      "image/png": "[encoded data removed]",
      "text/plain": [
       "Plot with title “Histogram of boot_q90s”"
      ]
     },
     "metadata": {
      "image/png": {
       "height": 480,
       "width": 720
      }
     },
     "output_type": "display_data"
    }
   ],
   "source": [
    "# Your code here!\n",
    "\n",
    "# START solution\n",
    "\n",
    "# B is chosen by balancing the computational power available to you, \n",
    "# and whether adding more replications makes a difference, numerically.\n",
    "# 10,000 is usually a good choice, but feel free to modify and explore. \n",
    "\n",
    "B = 10000\n",
    "boot_q90s = replicate(B, get_boot_90(sample_pay))\n",
    "\n",
    "# Standard error of bootstrapped 90th percentiles\n",
    "se_boot = sd(boot_q90s)\n",
    "print(\"Standard deviation of bootstrapped 90th percentiles:\")\n",
    "print(se_boot)\n",
    "\n",
    "# The point estimate of our CI should be computed from the original data.\n",
    "# The bootstrap samples are only used to compute the standard error of the estimator!\n",
    "point_estimate = quantile(sample_pay, 0.9)\n",
    "moe = qnorm(0.975)*se_boot\n",
    "\n",
    "# Confidence interval\n",
    "ci_boot = c(point_estimate - moe, point_estimate + moe)\n",
    "print(\"Bootstrapped confidence interval of the 90th percentile income: \")\n",
    "print(ci_boot)\n",
    "\n",
    "# Is true 90th percentile salary in our interval? \n",
    "print('True 90th percentile of salaries:')\n",
    "quantile(salaries$pay, 0.9)\n",
    "\n",
    "# bootstrapped sampling distribution looks pretty normal\n",
    "hist(boot_q90s)\n",
    "\n",
    "# END solution"
   ]
  },
  {
   "cell_type": "markdown",
   "metadata": {},
   "source": [
    "## 🩰 Percentile and pivotal intervals\n",
    "\n",
    "Computing confidence intervals with the normal approximation assumes that the sampling distribution is normal. \n",
    "\n",
    "What if we aren't confident in this assumption? \n",
    "\n",
    "We can report the $\\alpha/2$ and $1-\\alpha/2$ percentiles of the bootstrapped sampling distribution. \n",
    "\n",
    "We can also use the pivotal method, which is a technically more accurate method:\n",
    "$\\left(2 \\hat{\\theta} - \\hat{\\theta}^*_{1-\\alpha/2}, 2 \\hat{\\theta} - \\hat{\\theta}^*_{\\alpha/2}\\right)$\n",
    "\n",
    "> Note that the percentile and pivotal methods still assume that the bootstrapped sampling distribution is a good approximation of the true sampling distribution. The sampling distribution just doesn't have to be normal!"
   ]
  },
  {
   "cell_type": "markdown",
   "metadata": {},
   "source": [
    "🚀 **Exercise**:\n",
    "\n",
    "Compute the 95% percentile and pivotal intervals of the 90th percentile salary. "
   ]
  },
  {
   "cell_type": "code",
   "execution_count": 86,
   "metadata": {},
   "outputs": [
    {
     "name": "stdout",
     "output_type": "stream",
     "text": [
      "[1] \"Percentile interval:\"\n",
      "[1] 142091 156903\n",
      "[1] \"Pivotal interval:\"\n",
      "[1] 141586 156398\n"
     ]
    }
   ],
   "source": [
    "# Your code here!\n",
    "\n",
    "# START solution\n",
    "\n",
    "theta_hat = quantile(sample_pay, 0.9)\n",
    "theta_hat_star_lower = quantile(boot_q90s, 0.025, names=FALSE)\n",
    "theta_hat_star_upper = quantile(boot_q90s, 0.975, names=FALSE)\n",
    "\n",
    "print('Percentile interval:')\n",
    "print(c(theta_hat_star_lower, theta_hat_star_upper))\n",
    "\n",
    "print('Pivotal interval:')\n",
    "ci_pivotal = 2 * theta_hat - c(theta_hat_star_upper, theta_hat_star_lower)\n",
    "print(ci_pivotal)\n",
    "\n",
    "# END solution"
   ]
  }
 ],
 "metadata": {
  "kernelspec": {
   "display_name": "R",
   "language": "R",
   "name": "ir"
  },
  "language_info": {
   "codemirror_mode": "r",
   "file_extension": ".r",
   "mimetype": "text/x-r-source",
   "name": "R",
   "pygments_lexer": "r",
   "version": "4.2.1"
  }
 },
 "nbformat": 4,
 "nbformat_minor": 4
}

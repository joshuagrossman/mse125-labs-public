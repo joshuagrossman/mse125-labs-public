{
 "cells": [
  {
   "cell_type": "markdown",
   "metadata": {},
   "source": [
    "# 🗳️ HW6 Lab: Regularization and causal inference"
   ]
  },
  {
   "cell_type": "markdown",
   "metadata": {
    "tags": []
   },
   "source": [
    "## ✅ Setup and data import\n",
    "In this lab, we will apply regularization methods to a voting prediction problem.\n",
    "\n",
    "We will also have a short problem on causal inference related to breast cancer screenings."
   ]
  },
  {
   "cell_type": "code",
   "execution_count": null,
   "metadata": {
    "vscode": {
     "languageId": "r"
    }
   },
   "outputs": [],
   "source": [
    "# Load in additional functions\n",
    "library(tidyverse)\n",
    "library(lubridate)\n",
    "\n",
    "if (! require(ROCR)) {\n",
    "  install.packages('ROCR')\n",
    "}\n",
    "library(ROCR)\n",
    "\n",
    "# Takes a couple minutes to install glmnet in Google Colab\n",
    "if (! require(glmnet)) {\n",
    "  install.packages('glmnet')\n",
    "}\n",
    "library(glmnet)\n",
    "\n",
    "# Load in helper functions for fitting lasso and ridge, and computing AUC.\n",
    "source('https://jdgrossman.com/assets/hw6-helpers.R')\n",
    "\n",
    "# Use three digits past the decimal point,\n",
    "# and don't use scientific notation.\n",
    "options(digits = 3, scipen = 999)\n",
    "\n",
    "# Format plots with a white background and dark features.\n",
    "theme_set(theme_bw())\n",
    "\n",
    "# Increase the default text size of plots.\n",
    "# If you are *not* working in Google Colab, we recommend commenting\n",
    "# out this line of code.\n",
    "theme_update(text = element_text(size = 20))\n",
    "\n",
    "# Increase the default plot width and height.\n",
    "# If you are *not* working in Google Colab, we recommend commenting\n",
    "# out this line of code.\n",
    "options(repr.plot.width=12, repr.plot.height=8)\n",
    "\n",
    "# Read in the data\n",
    "data = read_csv('https://jdgrossman.com/assets/survey_small_regularization.csv')\n",
    "\n",
    "# peek at 10 random rows\n",
    "sample_n(data, 10)"
   ]
  },
  {
   "cell_type": "markdown",
   "metadata": {},
   "source": [
    "## 🚀 Exercise 1"
   ]
  },
  {
   "cell_type": "markdown",
   "metadata": {},
   "source": [
    "Write a function that does the following:\n",
    "1. Separates the voter data into an 80% training set and a 20% validation set.\n",
    "2. Fits a logistic regression model to the training dataset. The model should predict whether `voted_for_candidate` is true based all available features.\n",
    "3. Calculates the AUC of the model on the held-out validation set. You may find the `compute_auc` function helpful.\n",
    "\n",
    "The function should only have one input: a dataframe of voter data.\n",
    "\n",
    "Run your function once, and print the resulting validation set AUC."
   ]
  },
  {
   "cell_type": "code",
   "execution_count": null,
   "metadata": {},
   "outputs": [],
   "source": [
    "# Your code here!\n",
    "\n",
    "# `compute_auc(preds, actual)` will compute the AUC for a vector of\n",
    "# predicted probabilities (`preds`) and a vector of true labels (`actual`).\n",
    "\n"
   ]
  },
  {
   "cell_type": "markdown",
   "metadata": {},
   "source": [
    "## 🚀 Exercise 2\n",
    "\n",
    "Using the data and model specification from Exercise 1, write a function that uses 5-fold cross-validation (CV) to estimate the validation set error.\n",
    "\n",
    "> Do not import an external library that runs CV for you. Write your own code to perform CV.\n",
    "\n",
    "The function should only have two inputs: a dataframe of voter data, and the number of folds.\n",
    "\n",
    "Run your function once, and print the resulting AUC."
   ]
  },
  {
   "cell_type": "code",
   "execution_count": null,
   "metadata": {},
   "outputs": [],
   "source": [
    "# Your code here!\n",
    "\n"
   ]
  },
  {
   "cell_type": "markdown",
   "metadata": {},
   "source": [
    "## 🚀 Exercise 3"
   ]
  },
  {
   "cell_type": "markdown",
   "metadata": {},
   "source": [
    "Run your functions from Exercises 1 and 2 one hundred times each, and save the resulting AUC estimates. Plot the AUC estimates on one set of axes. \n",
    "\n",
    "> Make sure that your plot makes it easy to distinguish between estimates generated from the single validation set approach versus the CV approach.\n",
    "\n",
    "How do the estimates compare for the validation set approach versus the cross-validation approach? What is one advantage of cross-validation versus a single validation set? What is one disadvantage? Answer in no more than four sentences."
   ]
  },
  {
   "cell_type": "code",
   "execution_count": null,
   "metadata": {},
   "outputs": [],
   "source": [
    "# Your code here!\n",
    "\n"
   ]
  },
  {
   "cell_type": "code",
   "execution_count": null,
   "metadata": {},
   "outputs": [],
   "source": [
    "# Write your written answer as a code comment here!\n",
    "#\n",
    "#\n",
    "\n"
   ]
  },
  {
   "cell_type": "markdown",
   "metadata": {},
   "source": [
    "## 🚀 Exercise 4"
   ]
  },
  {
   "cell_type": "markdown",
   "metadata": {},
   "source": [
    "Next, we will explore ridge (L2) regularization.\n",
    "\n",
    "The `ridge_glm` function can be used to fit an L2 regularized regression model, and the `lasso_ridge_predict` function can be used to generate predictions from a model obtained from `ridge_glm`.\n",
    "\n",
    "> For example, `ridge_glm(y ~ ., data=df, lambda=1)` will fit a ridge regression model with outcome `y` using all other columns in dataframe `df` as covariates, using a `lambda` value of 1.\n",
    ">\n",
    "> `ridge_lasso_predict(ridge_glm_model, newdata=new_df)` will generate estimated probabilities for the observations in dataframe `new_df` using the fitted model `ridge_glm_model`. No need to use `type='response'`.\n",
    "\n",
    "Suppose you want to fit a ridge regression model that predicts whether someone voted for the candidate based on all other columns in the voter data. \n",
    "\n",
    "To fit a performant model, you should first identify which of the following lambda values produces the lowest cross-validated AUC estimate:\n",
    "\n",
    "```\n",
    "lambda = 10^seq(-10, 10, 1)\n",
    "```\n",
    "\n",
    "When estimating the CV AUC, use 10 folds. \n",
    "\n",
    "> You may find it helpful to re-use and modify the function you constructed in Exercise 2.\n",
    ">\n",
    "> If there is an approximate tie between multiple `lambda` values, it is generally good practice to choose the largest `lambda` value of the ties.\n",
    "\n",
    "To show the optimal value of lambda, make a plot with `log10(lambda)` on the x-axis and `AUC` on the y-axis."
   ]
  },
  {
   "cell_type": "code",
   "execution_count": null,
   "metadata": {},
   "outputs": [],
   "source": [
    "# Your code here!\n",
    "\n"
   ]
  },
  {
   "cell_type": "markdown",
   "metadata": {},
   "source": [
    "## 🚀 Exercise 5"
   ]
  },
  {
   "cell_type": "markdown",
   "metadata": {},
   "source": [
    "Repeat Exercise 4, but fit a lasso model instead of a ridge model."
   ]
  },
  {
   "cell_type": "code",
   "execution_count": null,
   "metadata": {},
   "outputs": [],
   "source": [
    "# Your code here!\n",
    "\n"
   ]
  },
  {
   "cell_type": "markdown",
   "metadata": {},
   "source": [
    "## 🚀 Exercise 6\n",
    "\n",
    "Create a plot comparing the coefficients of your optimal ridge model, your optimal lasso model, and a logistic regression model fit with the same specification as the lasso and ridge models. Each model should be fit to the entirety of the voter data.\n",
    "\n",
    "> You may want to create an additional zoomed-in plot to see changes in small coefficients.\n",
    "\n",
    "In no more than three sentences, describe similarities and differences among the coefficients of each model."
   ]
  },
  {
   "cell_type": "code",
   "execution_count": null,
   "metadata": {},
   "outputs": [],
   "source": [
    "# Your code here!\n",
    "\n"
   ]
  },
  {
   "cell_type": "code",
   "execution_count": null,
   "metadata": {},
   "outputs": [],
   "source": [
    "# Write your text answer as a code comment here!\n",
    "#\n",
    "#\n",
    "\n"
   ]
  },
  {
   "cell_type": "markdown",
   "metadata": {},
   "source": [
    "## 🚀 Exercise 7\n",
    "\n",
    "As it turns out, there is a much larger dataset of voters drawn from the same population. The data can be found at [https://jdgrossman.com/assets/survey_complete_regularization.csv](https://jdgrossman.com/assets/survey_complete_regularization.csv).\n",
    "\n",
    "What is the AUC of each of the three models from Exercise 6 when applied to this test dataset? Answer in a one-sentence code comment.\n",
    "\n",
    "> Note that you should not fit any new models in this exercise."
   ]
  },
  {
   "cell_type": "code",
   "execution_count": null,
   "metadata": {},
   "outputs": [],
   "source": [
    "# Write your code and written answer in this cell!\n",
    "\n"
   ]
  },
  {
   "cell_type": "markdown",
   "metadata": {},
   "source": [
    "## 🚀 Exercise 8\n",
    "\n",
    "We will now change gears and complete a short problem on causal inference.\n",
    "\n",
    "(Adapted from\n",
    "<a href=\"http://www.cambridge.org/us/academic/subjects/politics-international-relations/research-methods-politics/natural-experiments-social-sciences-design-based-approach\">\n",
    "Natural Experiments in the Social Sciences</a>, Chapter 5, Problem 5.2)\n",
    "\n",
    "In the 1960s, the Health Insurance Plan of Greater New York clinical trial\n",
    "studied the effects of screening for breast cancer. \n",
    "\n",
    "* Researchers invited\n",
    "about 31,000 women between the ages of 40 and 64 for annual clinical visits\n",
    "and mammographies, which are X-rays designed to detect breast cancer. \n",
    "\n",
    "* About 20,200 women or two-thirds of these women accepted the invitation to be\n",
    "screened, while one-third refused. \n",
    "\n",
    "* In the control group, 31,000 women\n",
    "received the status quo health care. (None of them received mammographies of\n",
    "their own initiative; screening for breast cancer was rare in the 1960s.)\n",
    "\n",
    "* Among the 62,000 women in the study group, the invitation for screening was\n",
    "issued at random. \n",
    "\n",
    "The table below shows numbers of deaths and death rates\n",
    "from breast cancer five years after the start of the trial. It also shows\n",
    "deaths from other causes, among women in the treatment group who accepted\n",
    "the invitation for screening and those who refused.\n",
    "\n",
    "<div class=\"datatable-begin\"></div>\n",
    "\n",
    "| | Group size | Deaths from breast cancer | Death rate from breast cancer, per 1,000 women | Deaths from other causes | Death rate from other causes, per 1,000 women |\n",
    "| ----------- | ----------- | ----------- | ----------- | ----------- | ----------- |\n",
    "| **Assigned to treatment** |  |  |  |  |  |\n",
    "| Accepted screening | 20,200 | 23 | 1.14 | 428 | 21.19 |\n",
    "| Refused screening | 10,800 | 16 | 1.48 | 409 | 37.87 |\n",
    "| Total | 31,000 | 39 | 1.26 | 837 | 27.00 |\n",
    "| **Assigned to control** |  |  |  |  |  |\n",
    "| Would have accepted screening | N/A | N/A | N/A | N/A | N/A |\n",
    "| Would have refused screening | N/A | N/A | N/A | N/A | N/A |\n",
    "| Total | 31,000 | 63 | 2.03 | 879 | 28.25 |\n",
    "\n",
    "<div class=\"datatable-end\"></div>"
   ]
  },
  {
   "cell_type": "markdown",
   "metadata": {},
   "source": [
    "## 🚀 Exercise 8a"
   ]
  },
  {
   "cell_type": "markdown",
   "metadata": {},
   "source": [
    "It might seem natural to compare women who were screened with women who\n",
    "were not screened. \n",
    "\n",
    "* Why, in general, is this a bad idea? \n",
    "\n",
    "* Is there any specific evidence in the table that suggests this is in fact a bad idea?\n",
    "\n",
    "**There is no maximum sentence length for any of the parts of Exercise 8, but you should be able to answer each question in no more than a few sentences.** "
   ]
  },
  {
   "cell_type": "code",
   "execution_count": null,
   "metadata": {},
   "outputs": [],
   "source": [
    "# Write your answer as a code comment here! \n",
    "#\n",
    "\n"
   ]
  },
  {
   "cell_type": "markdown",
   "metadata": {},
   "source": [
    "## 🚀 Exercise 8b"
   ]
  },
  {
   "cell_type": "markdown",
   "metadata": {},
   "source": [
    "In class, we learned about the average treatment effect ($\\text{ATE}$) and the average\n",
    "treatment effect on the treated ($\\text{ATT}$, also known as $\\text{ATE}_\\text{c}$, where $\\text{c}$ denotes compliers).\n",
    "\n",
    "* Calculate the intention-to-treat estimate (i.e, the average effect of being assigned to treatment).\n",
    "\n",
    "* What is a potential limitation of intention-to-treat analysis?"
   ]
  },
  {
   "cell_type": "code",
   "execution_count": null,
   "metadata": {},
   "outputs": [],
   "source": [
    "# Write any necessary calculations and your text-based answer here! \n",
    "\n"
   ]
  },
  {
   "cell_type": "markdown",
   "metadata": {},
   "source": [
    "## 🚀 Exercise 8c"
   ]
  },
  {
   "cell_type": "markdown",
   "metadata": {},
   "source": [
    "In the first column of the table, there are two unobserved quantities among the women assigned to the control group: (1) the number of women who would have accepted screening, and (2) the number who would have refused.\n",
    "\n",
    "* Why are these quantities unobserved? \n",
    "\n",
    "* Find an unbiased\n",
    "estimate for each of these two quantities and fill in the corresponding\n",
    "cells of the table with these estimates. \n",
    "\n",
    "* What is the rationale for your\n",
    "estimates (i.e., why are they unbiased)?"
   ]
  },
  {
   "cell_type": "code",
   "execution_count": null,
   "metadata": {},
   "outputs": [],
   "source": [
    "# Print any necessary calculations and write your text-based answer here! \n",
    "\n"
   ]
  },
  {
   "cell_type": "markdown",
   "metadata": {},
   "source": [
    "## 🚀 Exercise 8d"
   ]
  },
  {
   "cell_type": "markdown",
   "metadata": {},
   "source": [
    "What is the proportion of always-treats, never-treats, and compliers in\n",
    "the study group?"
   ]
  },
  {
   "cell_type": "code",
   "execution_count": null,
   "metadata": {},
   "outputs": [],
   "source": [
    "# Write your answer as a code comment here! \n",
    "#\n",
    "# \n",
    "\n"
   ]
  },
  {
   "cell_type": "markdown",
   "metadata": {},
   "source": [
    "## 🚀 Exercise 8e"
   ]
  },
  {
   "cell_type": "markdown",
   "metadata": {},
   "source": [
    "What is the death rate from breast cancer among compliers in the assigned-to-treatment\n",
    "group? (The death rate per 1,000 women is simply the number of deaths\n",
    "divided by the group size, times 1,000.)"
   ]
  },
  {
   "cell_type": "code",
   "execution_count": null,
   "metadata": {},
   "outputs": [],
   "source": [
    "# Calculate and print your answer here!\n",
    "\n"
   ]
  },
  {
   "cell_type": "markdown",
   "metadata": {},
   "source": [
    "## 🚀 Exercise 8f"
   ]
  },
  {
   "cell_type": "markdown",
   "metadata": {},
   "source": [
    "Now, estimate the death rate from breast cancer among compliers and,\n",
    "separately,\n",
    "among never-treats in the control group. How to do this:\n",
    "\n",
    "* First, estimate the number of never-treats in the control group\n",
    "who died from breast cancer. Why is this quantity unobserved?\n",
    "What is the rationale for your estimate?\n",
    "\n",
    "* Now, use this information to estimate the number of deaths from\n",
    "breast cancer among compliers in the control group. \n",
    "\n",
    "* Finally,\n",
    "estimate the death rate per 1,000 women among compliers in the\n",
    "control group,\n",
    "and also estimate the death rate per 1,000 women among\n",
    "never-treats in the control group."
   ]
  },
  {
   "cell_type": "code",
   "execution_count": null,
   "metadata": {},
   "outputs": [],
   "source": [
    "# Calculate and write your answers here!\n",
    "\n"
   ]
  },
  {
   "cell_type": "markdown",
   "metadata": {},
   "source": [
    "## 🚀 Exercise 8g"
   ]
  },
  {
   "cell_type": "markdown",
   "metadata": {},
   "source": [
    "Estimate the effect of treatment on compliers in terms of death rates,\n",
    "using the information computed above."
   ]
  },
  {
   "cell_type": "code",
   "execution_count": null,
   "metadata": {},
   "outputs": [],
   "source": [
    "# Calculate and print your answer here!\n",
    "\n"
   ]
  },
  {
   "cell_type": "markdown",
   "metadata": {},
   "source": [
    "## 🚀 Exercise 8h"
   ]
  },
  {
   "cell_type": "markdown",
   "metadata": {},
   "source": [
    "Using several of the quantities you derived above, find the average\n",
    "treatment effect for\n",
    "compliers by directly applying the instrumental-variables estimator:\n",
    "\n",
    "$$\\frac{[\\text{mean outcome in treatment group}] - [\\text{mean outcome\n",
    "in control group}]}{[\\text{fraction treated in treatment group}] - [\\text{fraction treated\n",
    "in control group}]}.$$\n",
    "\n",
    "This should be identical to your answer in (g). "
   ]
  },
  {
   "cell_type": "code",
   "execution_count": null,
   "metadata": {},
   "outputs": [],
   "source": [
    "# Calculate and print your answer here!\n",
    "\n"
   ]
  }
 ],
 "metadata": {
  "kernelspec": {
   "display_name": "R",
   "language": "R",
   "name": "ir"
  },
  "language_info": {
   "codemirror_mode": "r",
   "file_extension": ".r",
   "mimetype": "text/x-r-source",
   "name": "R",
   "pygments_lexer": "r",
   "version": "4.2.1"
  }
 },
 "nbformat": 4,
 "nbformat_minor": 4
}

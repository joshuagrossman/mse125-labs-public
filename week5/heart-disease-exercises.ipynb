{
 "cells": [
  {
   "cell_type": "markdown",
   "metadata": {},
   "source": [
    "# 🫀 HW5 Lab: Predicting heart disease with logistic regression"
   ]
  },
  {
   "cell_type": "markdown",
   "metadata": {
    "tags": []
   },
   "source": [
    "<img src=\"img/heart-disease.jpeg\" alt= “spam-email” width=\"300\" />"
   ]
  },
  {
   "cell_type": "markdown",
   "metadata": {
    "tags": []
   },
   "source": [
    "## ✅ Setup and data import\n",
    "In this lab, we will use attempt to predict heart disease using an aggregated [dataset of patients](https://www.kaggle.com/datasets/fedesoriano/heart-failure-prediction)."
   ]
  },
  {
   "cell_type": "code",
   "execution_count": null,
   "metadata": {
    "vscode": {
     "languageId": "r"
    }
   },
   "outputs": [
    {
     "name": "stderr",
     "output_type": "stream",
     "text": [
      "── \u001b[1mAttaching packages\u001b[22m ────────────────────────────── tidyverse 1.3.2 ──\n",
      "\u001b[32m✔\u001b[39m \u001b[34mggplot2\u001b[39m 3.5.0     \u001b[32m✔\u001b[39m \u001b[34mpurrr  \u001b[39m 1.0.2\n",
      "\u001b[32m✔\u001b[39m \u001b[34mtibble \u001b[39m 3.2.1     \u001b[32m✔\u001b[39m \u001b[34mdplyr  \u001b[39m 1.1.4\n",
      "\u001b[32m✔\u001b[39m \u001b[34mtidyr  \u001b[39m 1.3.0     \u001b[32m✔\u001b[39m \u001b[34mstringr\u001b[39m 1.5.1\n",
      "\u001b[32m✔\u001b[39m \u001b[34mreadr  \u001b[39m 2.1.4     \u001b[32m✔\u001b[39m \u001b[34mforcats\u001b[39m 1.0.0\n",
      "── \u001b[1mConflicts\u001b[22m ───────────────────────────────── tidyverse_conflicts() ──\n",
      "\u001b[31m✖\u001b[39m \u001b[34mdplyr\u001b[39m::\u001b[32mfilter()\u001b[39m masks \u001b[34mstats\u001b[39m::filter()\n",
      "\u001b[31m✖\u001b[39m \u001b[34mdplyr\u001b[39m::\u001b[32mlag()\u001b[39m    masks \u001b[34mstats\u001b[39m::lag()\n",
      "\n",
      "Attaching package: ‘lubridate’\n",
      "\n",
      "\n",
      "The following objects are masked from ‘package:base’:\n",
      "\n",
      "    date, intersect, setdiff, union\n",
      "\n",
      "\n",
      "\u001b[1mRows: \u001b[22m\u001b[34m918\u001b[39m \u001b[1mColumns: \u001b[22m\u001b[34m12\u001b[39m\n",
      "\u001b[36m──\u001b[39m \u001b[1mColumn specification\u001b[22m \u001b[36m───────────────────────────────────────────────\u001b[39m\n",
      "\u001b[1mDelimiter:\u001b[22m \",\"\n",
      "\u001b[31mchr\u001b[39m (5): Sex, ChestPainType, RestingECG, ExerciseAngina, ST_Slope\n",
      "\u001b[32mdbl\u001b[39m (7): Age, RestingBP, Cholesterol, FastingBS, MaxHR, Oldpeak, HeartDisease\n",
      "\n",
      "\u001b[36mℹ\u001b[39m Use `spec()` to retrieve the full column specification for this data.\n",
      "\u001b[36mℹ\u001b[39m Specify the column types or set `show_col_types = FALSE` to quiet this message.\n"
     ]
    },
    {
     "data": {
      "text/html": [
       "<table class=\"dataframe\">\n",
       "<caption>A spec_tbl_df: 10 × 12</caption>\n",
       "<thead>\n",
       "\t<tr><th scope=col>Age</th><th scope=col>Sex</th><th scope=col>ChestPainType</th><th scope=col>RestingBP</th><th scope=col>Cholesterol</th><th scope=col>FastingBS</th><th scope=col>RestingECG</th><th scope=col>MaxHR</th><th scope=col>ExerciseAngina</th><th scope=col>Oldpeak</th><th scope=col>ST_Slope</th><th scope=col>HeartDisease</th></tr>\n",
       "\t<tr><th scope=col>&lt;dbl&gt;</th><th scope=col>&lt;chr&gt;</th><th scope=col>&lt;chr&gt;</th><th scope=col>&lt;dbl&gt;</th><th scope=col>&lt;dbl&gt;</th><th scope=col>&lt;dbl&gt;</th><th scope=col>&lt;chr&gt;</th><th scope=col>&lt;dbl&gt;</th><th scope=col>&lt;chr&gt;</th><th scope=col>&lt;dbl&gt;</th><th scope=col>&lt;chr&gt;</th><th scope=col>&lt;dbl&gt;</th></tr>\n",
       "</thead>\n",
       "<tbody>\n",
       "\t<tr><td>53</td><td>M</td><td>ASY</td><td>120</td><td>246</td><td>0</td><td>Normal</td><td>116</td><td>Y</td><td>0.0</td><td>Flat</td><td>1</td></tr>\n",
       "\t<tr><td>76</td><td>F</td><td>NAP</td><td>140</td><td>197</td><td>0</td><td>ST    </td><td>116</td><td>N</td><td>1.1</td><td>Flat</td><td>0</td></tr>\n",
       "\t<tr><td>67</td><td>M</td><td>ASY</td><td>120</td><td>237</td><td>0</td><td>Normal</td><td> 71</td><td>N</td><td>1.0</td><td>Flat</td><td>1</td></tr>\n",
       "\t<tr><td>58</td><td>M</td><td>ASY</td><td>100</td><td>213</td><td>0</td><td>ST    </td><td>110</td><td>N</td><td>0.0</td><td>Up  </td><td>0</td></tr>\n",
       "\t<tr><td>53</td><td>M</td><td>NAP</td><td>130</td><td>246</td><td>1</td><td>LVH   </td><td>173</td><td>N</td><td>0.0</td><td>Up  </td><td>0</td></tr>\n",
       "\t<tr><td>51</td><td>M</td><td>ASY</td><td>128</td><td>  0</td><td>0</td><td>Normal</td><td>107</td><td>N</td><td>0.0</td><td>Up  </td><td>0</td></tr>\n",
       "\t<tr><td>66</td><td>M</td><td>ASY</td><td>112</td><td>212</td><td>0</td><td>LVH   </td><td>132</td><td>Y</td><td>0.1</td><td>Up  </td><td>1</td></tr>\n",
       "\t<tr><td>63</td><td>F</td><td>ASY</td><td>108</td><td>269</td><td>0</td><td>Normal</td><td>169</td><td>Y</td><td>1.8</td><td>Flat</td><td>1</td></tr>\n",
       "\t<tr><td>59</td><td>F</td><td>ATA</td><td>130</td><td>188</td><td>0</td><td>Normal</td><td>124</td><td>N</td><td>1.0</td><td>Flat</td><td>0</td></tr>\n",
       "\t<tr><td>67</td><td>M</td><td>ASY</td><td>120</td><td>229</td><td>0</td><td>LVH   </td><td>129</td><td>Y</td><td>2.6</td><td>Flat</td><td>1</td></tr>\n",
       "</tbody>\n",
       "</table>\n"
      ],
      "text/latex": [
       "A spec\\_tbl\\_df: 10 × 12\n",
       "\\begin{tabular}{llllllllllll}\n",
       " Age & Sex & ChestPainType & RestingBP & Cholesterol & FastingBS & RestingECG & MaxHR & ExerciseAngina & Oldpeak & ST\\_Slope & HeartDisease\\\\\n",
       " <dbl> & <chr> & <chr> & <dbl> & <dbl> & <dbl> & <chr> & <dbl> & <chr> & <dbl> & <chr> & <dbl>\\\\\n",
       "\\hline\n",
       "\t 53 & M & ASY & 120 & 246 & 0 & Normal & 116 & Y & 0.0 & Flat & 1\\\\\n",
       "\t 76 & F & NAP & 140 & 197 & 0 & ST     & 116 & N & 1.1 & Flat & 0\\\\\n",
       "\t 67 & M & ASY & 120 & 237 & 0 & Normal &  71 & N & 1.0 & Flat & 1\\\\\n",
       "\t 58 & M & ASY & 100 & 213 & 0 & ST     & 110 & N & 0.0 & Up   & 0\\\\\n",
       "\t 53 & M & NAP & 130 & 246 & 1 & LVH    & 173 & N & 0.0 & Up   & 0\\\\\n",
       "\t 51 & M & ASY & 128 &   0 & 0 & Normal & 107 & N & 0.0 & Up   & 0\\\\\n",
       "\t 66 & M & ASY & 112 & 212 & 0 & LVH    & 132 & Y & 0.1 & Up   & 1\\\\\n",
       "\t 63 & F & ASY & 108 & 269 & 0 & Normal & 169 & Y & 1.8 & Flat & 1\\\\\n",
       "\t 59 & F & ATA & 130 & 188 & 0 & Normal & 124 & N & 1.0 & Flat & 0\\\\\n",
       "\t 67 & M & ASY & 120 & 229 & 0 & LVH    & 129 & Y & 2.6 & Flat & 1\\\\\n",
       "\\end{tabular}\n"
      ],
      "text/markdown": [
       "\n",
       "A spec_tbl_df: 10 × 12\n",
       "\n",
       "| Age &lt;dbl&gt; | Sex &lt;chr&gt; | ChestPainType &lt;chr&gt; | RestingBP &lt;dbl&gt; | Cholesterol &lt;dbl&gt; | FastingBS &lt;dbl&gt; | RestingECG &lt;chr&gt; | MaxHR &lt;dbl&gt; | ExerciseAngina &lt;chr&gt; | Oldpeak &lt;dbl&gt; | ST_Slope &lt;chr&gt; | HeartDisease &lt;dbl&gt; |\n",
       "|---|---|---|---|---|---|---|---|---|---|---|---|\n",
       "| 53 | M | ASY | 120 | 246 | 0 | Normal | 116 | Y | 0.0 | Flat | 1 |\n",
       "| 76 | F | NAP | 140 | 197 | 0 | ST     | 116 | N | 1.1 | Flat | 0 |\n",
       "| 67 | M | ASY | 120 | 237 | 0 | Normal |  71 | N | 1.0 | Flat | 1 |\n",
       "| 58 | M | ASY | 100 | 213 | 0 | ST     | 110 | N | 0.0 | Up   | 0 |\n",
       "| 53 | M | NAP | 130 | 246 | 1 | LVH    | 173 | N | 0.0 | Up   | 0 |\n",
       "| 51 | M | ASY | 128 |   0 | 0 | Normal | 107 | N | 0.0 | Up   | 0 |\n",
       "| 66 | M | ASY | 112 | 212 | 0 | LVH    | 132 | Y | 0.1 | Up   | 1 |\n",
       "| 63 | F | ASY | 108 | 269 | 0 | Normal | 169 | Y | 1.8 | Flat | 1 |\n",
       "| 59 | F | ATA | 130 | 188 | 0 | Normal | 124 | N | 1.0 | Flat | 0 |\n",
       "| 67 | M | ASY | 120 | 229 | 0 | LVH    | 129 | Y | 2.6 | Flat | 1 |\n",
       "\n"
      ],
      "text/plain": [
       "   Age Sex ChestPainType RestingBP Cholesterol FastingBS RestingECG MaxHR\n",
       "1  53  M   ASY           120       246         0         Normal     116  \n",
       "2  76  F   NAP           140       197         0         ST         116  \n",
       "3  67  M   ASY           120       237         0         Normal      71  \n",
       "4  58  M   ASY           100       213         0         ST         110  \n",
       "5  53  M   NAP           130       246         1         LVH        173  \n",
       "6  51  M   ASY           128         0         0         Normal     107  \n",
       "7  66  M   ASY           112       212         0         LVH        132  \n",
       "8  63  F   ASY           108       269         0         Normal     169  \n",
       "9  59  F   ATA           130       188         0         Normal     124  \n",
       "10 67  M   ASY           120       229         0         LVH        129  \n",
       "   ExerciseAngina Oldpeak ST_Slope HeartDisease\n",
       "1  Y              0.0     Flat     1           \n",
       "2  N              1.1     Flat     0           \n",
       "3  N              1.0     Flat     1           \n",
       "4  N              0.0     Up       0           \n",
       "5  N              0.0     Up       0           \n",
       "6  N              0.0     Up       0           \n",
       "7  Y              0.1     Up       1           \n",
       "8  Y              1.8     Flat     1           \n",
       "9  N              1.0     Flat     0           \n",
       "10 Y              2.6     Flat     1           "
      ]
     },
     "metadata": {},
     "output_type": "display_data"
    }
   ],
   "source": [
    "# Load in additional functions\n",
    "library(tidyverse)\n",
    "library(lubridate)\n",
    "\n",
    "# Use three digits past the decimal point,\n",
    "# and don't use scientific notation.\n",
    "options(digits = 3, scipen = 999)\n",
    "\n",
    "# Format plots with a white background and dark features.\n",
    "theme_set(theme_bw())\n",
    "\n",
    "# Increase the default text size of plots.\n",
    "# If you are *not* working in Google Colab, we recommend commenting\n",
    "# out this line of code.\n",
    "theme_update(text = element_text(size = 20))\n",
    "\n",
    "# Increase the default plot width and height.\n",
    "# If you are *not* working in Google Colab, we recommend commenting\n",
    "# out this line of code.\n",
    "options(repr.plot.width=12, repr.plot.height=8)\n",
    "\n",
    "# Read in the data\n",
    "data = read_csv('https://raw.githubusercontent.com/joshuagrossman/mse125-labs-public/main/week5/heart_failure.csv')\n",
    "\n",
    "# peek at 10 random rows\n",
    "sample_n(data, 10)"
   ]
  },
  {
   "cell_type": "markdown",
   "metadata": {},
   "source": [
    "## 🚀 Exercise 1"
   ]
  },
  {
   "cell_type": "markdown",
   "metadata": {},
   "source": [
    "a) Fit a linear probability model to the heart disease data to predict the likelihood that a patient has heart disease. \n",
    "- The model should only take into account the `Sex` column. \n",
    "- Print the summary of your model."
   ]
  },
  {
   "cell_type": "code",
   "execution_count": null,
   "metadata": {
    "vscode": {
     "languageId": "r"
    }
   },
   "outputs": [],
   "source": [
    "# Your code here for part a)!\n",
    "\n"
   ]
  },
  {
   "cell_type": "markdown",
   "metadata": {},
   "source": [
    "b) How do you interpret the coefficients of your model? Answer in no more than one sentence per coefficient."
   ]
  },
  {
   "cell_type": "code",
   "execution_count": null,
   "metadata": {
    "vscode": {
     "languageId": "r"
    }
   },
   "outputs": [],
   "source": [
    "# Your written answer for part b) here!\n",
    "# \n",
    "# \n",
    "\n"
   ]
  },
  {
   "cell_type": "markdown",
   "metadata": {},
   "source": [
    "c) Do male patients in the dataset have a significantly higher risk of heart disease than female patients in the dataset? Justify your response with a 95% confidence interval."
   ]
  },
  {
   "cell_type": "code",
   "execution_count": null,
   "metadata": {
    "vscode": {
     "languageId": "r"
    }
   },
   "outputs": [],
   "source": [
    "# Your code here for part c)!\n",
    "\n"
   ]
  },
  {
   "cell_type": "code",
   "execution_count": null,
   "metadata": {
    "vscode": {
     "languageId": "r"
    }
   },
   "outputs": [],
   "source": [
    "# Your written answer for part c) here!\n",
    "# \n",
    "# \n",
    "\n"
   ]
  },
  {
   "cell_type": "markdown",
   "metadata": {},
   "source": [
    "d) Write code to show how you could calculate the `(Intercept)` and `SexM` coefficients without using the linear regression algorithm."
   ]
  },
  {
   "cell_type": "code",
   "execution_count": null,
   "metadata": {
    "vscode": {
     "languageId": "r"
    }
   },
   "outputs": [],
   "source": [
    "# Your code here for part d)!\n",
    "\n"
   ]
  },
  {
   "cell_type": "markdown",
   "metadata": {},
   "source": [
    "## 🚀 Exercise 2\n",
    "\n",
    "**For each of the parts of Exercise 2, justify your answer by training a linear probability model, calculating a 95% confidence interval, and writing a one sentence explanation.**\n",
    "\n",
    "a) Is each additional year of life sigificantly associated with a higher estimated risk of heart disease?"
   ]
  },
  {
   "cell_type": "code",
   "execution_count": null,
   "metadata": {
    "vscode": {
     "languageId": "r"
    }
   },
   "outputs": [],
   "source": [
    "# Your code and written answer here for part a)!\n",
    "\n"
   ]
  },
  {
   "cell_type": "markdown",
   "metadata": {},
   "source": [
    "b) For a male patient and a female patient of the same age, does the male patient have a significantly higher estimated risk of heart disease?"
   ]
  },
  {
   "cell_type": "code",
   "execution_count": null,
   "metadata": {
    "vscode": {
     "languageId": "r"
    }
   },
   "outputs": [],
   "source": [
    "# Your code and written answer here for part b)!\n",
    "\n"
   ]
  },
  {
   "cell_type": "markdown",
   "metadata": {},
   "source": [
    "c) Does the estimated change in risk per additional year of life significantly differ for male patients versus female patients? "
   ]
  },
  {
   "cell_type": "code",
   "execution_count": null,
   "metadata": {
    "vscode": {
     "languageId": "r"
    }
   },
   "outputs": [],
   "source": [
    "# Your code and written answer here for part c)!\n",
    "\n"
   ]
  },
  {
   "cell_type": "markdown",
   "metadata": {},
   "source": [
    "## 🚀 Exercise 3\n",
    "\n",
    "For each of the 3 linear probability models from Exercise 2, fit a logistic regression model using the same features. \n",
    "\n",
    "> In other words, you should fit three logistic regression models.\n",
    "\n",
    "Are your answers to Exercise 2 consistent with the output of the logistic regression models? Answer in no more than three sentences."
   ]
  },
  {
   "cell_type": "code",
   "execution_count": null,
   "metadata": {
    "vscode": {
     "languageId": "r"
    }
   },
   "outputs": [],
   "source": [
    "# Your code here!\n",
    "\n"
   ]
  },
  {
   "cell_type": "code",
   "execution_count": null,
   "metadata": {
    "vscode": {
     "languageId": "r"
    }
   },
   "outputs": [],
   "source": [
    "# Your written answer here!\n",
    "# \n",
    "# \n",
    "\n"
   ]
  },
  {
   "cell_type": "markdown",
   "metadata": {},
   "source": [
    "## 🚀 Exercise 4\n",
    "\n",
    "a) Fit two models to the dataset:\n",
    "1. A linear probability model accounting for all covariates in the data.\n",
    "2. A logistic regression model accounting for all covariates in the data.\n",
    "\n",
    "> Models like this are often called \"fully saturated\".\n",
    "\n",
    "Print the model summary of each model."
   ]
  },
  {
   "cell_type": "code",
   "execution_count": null,
   "metadata": {
    "vscode": {
     "languageId": "r"
    }
   },
   "outputs": [],
   "source": [
    "# Your code here for part a)!\n",
    "\n"
   ]
  },
  {
   "cell_type": "markdown",
   "metadata": {},
   "source": [
    "b) Create a plot to compare the estimated probabilities for the fully saturated logistic regression model and the fully saturated linear probability model. \n",
    "\n",
    "> The choice of plot is up to you, as long as your chosen plot allows for comparison of the probabilities. \n",
    "\n",
    "In no more than two sentences, compare the estimated probabilities of each model."
   ]
  },
  {
   "cell_type": "code",
   "execution_count": null,
   "metadata": {
    "vscode": {
     "languageId": "r"
    }
   },
   "outputs": [],
   "source": [
    "# Your code here for part b)!\n",
    "\n"
   ]
  },
  {
   "cell_type": "code",
   "execution_count": null,
   "metadata": {
    "vscode": {
     "languageId": "r"
    }
   },
   "outputs": [],
   "source": [
    "# Your written answer for part b)!\n",
    "# \n",
    "# \n",
    "\n"
   ]
  },
  {
   "cell_type": "markdown",
   "metadata": {},
   "source": [
    "## 🚀 Exercise 5\n",
    "\n",
    "Using a threshold of 0.5, calculate and compare the accuracy of the linear probability model and the logistic regression models from Exercise 4."
   ]
  },
  {
   "cell_type": "code",
   "execution_count": null,
   "metadata": {
    "vscode": {
     "languageId": "r"
    }
   },
   "outputs": [],
   "source": [
    "# Your code here! \n",
    "\n"
   ]
  },
  {
   "cell_type": "markdown",
   "metadata": {},
   "source": [
    "## 🚀 Exercise 6\n",
    "\n",
    "Plot the ROC curve for the logistic regression model from Exercise 5. \n",
    "\n",
    "> Plot the ROC curve manually with `ggplot2`. In other words, do not use an external package to generate the plot.\n",
    "\n",
    "Identify where on the curve corresponds to the threshold of 0.5. \n",
    "\n",
    "Provide a one-sentence description of how you identified the point corresponding to the 0.5 threshold."
   ]
  },
  {
   "cell_type": "code",
   "execution_count": null,
   "metadata": {
    "vscode": {
     "languageId": "r"
    }
   },
   "outputs": [],
   "source": [
    "# Your code here!\n",
    "\n"
   ]
  },
  {
   "cell_type": "code",
   "execution_count": null,
   "metadata": {
    "vscode": {
     "languageId": "r"
    }
   },
   "outputs": [],
   "source": [
    "# Your written answer here!\n",
    "# \n",
    "# \n",
    "\n"
   ]
  },
  {
   "cell_type": "markdown",
   "metadata": {},
   "source": [
    "## 🚀 Exercise 7\n",
    "\n",
    "a) In two sentences, describe what a false negative and false positive is in the context of the logistic regression model from Exercises 5-7."
   ]
  },
  {
   "cell_type": "code",
   "execution_count": null,
   "metadata": {
    "vscode": {
     "languageId": "r"
    }
   },
   "outputs": [],
   "source": [
    "# Your written answer for Part a)\n",
    "# \n",
    "# \n",
    "\n"
   ]
  },
  {
   "cell_type": "markdown",
   "metadata": {},
   "source": [
    "b) Suppose that a clinical expert tells you that a false negative is 4 times worse than a false positive for this problem. Find the optimal threshold for the logistic regression model using this information."
   ]
  },
  {
   "cell_type": "code",
   "execution_count": null,
   "metadata": {
    "vscode": {
     "languageId": "r"
    }
   },
   "outputs": [],
   "source": [
    "# Your code here for Part b!\n",
    "\n",
    "relative_cost = 4\n",
    "thresholds = seq(0, 1, by=0.01)\n",
    "\n"
   ]
  },
  {
   "cell_type": "markdown",
   "metadata": {},
   "source": [
    "c) Using the threshold you computed in part b), compute the true positive rate and false positive rate, and interpret these values in the context of the problem."
   ]
  },
  {
   "cell_type": "code",
   "execution_count": null,
   "metadata": {
    "vscode": {
     "languageId": "r"
    }
   },
   "outputs": [],
   "source": [
    "# Your code here for Part c!\n",
    "\n"
   ]
  },
  {
   "cell_type": "code",
   "execution_count": null,
   "metadata": {
    "vscode": {
     "languageId": "r"
    }
   },
   "outputs": [],
   "source": [
    "# Your written answer for part c!\n",
    "# \n",
    "# \n",
    "\n"
   ]
  }
 ],
 "metadata": {
  "kernelspec": {
   "display_name": "R",
   "language": "R",
   "name": "ir"
  },
  "language_info": {
   "codemirror_mode": "r",
   "file_extension": ".r",
   "mimetype": "text/x-r-source",
   "name": "R",
   "pygments_lexer": "r",
   "version": "4.2.1"
  }
 },
 "nbformat": 4,
 "nbformat_minor": 4
}
